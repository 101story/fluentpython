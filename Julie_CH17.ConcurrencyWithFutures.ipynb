{
 "cells": [
  {
   "cell_type": "markdown",
   "metadata": {},
   "source": [
    "# Fluent Python\n",
    "https://github.com/fluentpython/example-code\n",
    "\n",
    "파이썬 용어집 \n",
    "\n",
    "https://docs.python.org/ko/3/glossary.html"
   ]
  },
  {
   "cell_type": "code",
   "execution_count": 4,
   "metadata": {},
   "outputs": [],
   "source": [
    "from IPython.core.interactiveshell import InteractiveShell\n",
    "InteractiveShell.ast_node_interactivity = \"all\"\n",
    "\n",
    "import pandas as pd\n",
    "import numpy as np\n"
   ]
  },
  {
   "cell_type": "markdown",
   "metadata": {},
   "source": [
    "## CHAPTER 17. Concurrency with Futures\n",
    "\n",
    "### Downloading with concurrent.futures\n",
    "\n",
    "concurrent.futures package are the ThreadPoolExecutor and ProcessPoolExecutor classes\n",
    "\n",
    "콜러블객체를 서로 다른 스레드나 프로세스에서 실행할수 잇게 해주는 인터페이스를 구현 \n",
    "\n",
    "작업자 스레드나 작업자 프로세스를 관리하는 풀과 실행할 작업을 담은 큐를 가짐 \n"
   ]
  },
  {
   "cell_type": "code",
   "execution_count": 3,
   "metadata": {},
   "outputs": [],
   "source": [
    "def download_many(cc_list):\n",
    "    # 작업할 스레드 최소 개수 \n",
    "    workers = min(MAX_WORKERS, len(cc_list))\n",
    "    # 작업자 수를 전달해서 Thread 객체 생성 \n",
    "    # executor.__exit__() 가 executor.shutdown(wait=True) 호출 \n",
    "    # 모든 스레드 완료될때까지 블록됨\n",
    "    with futures.ThreadPoolExecutor(workers) as executor:\n",
    "        res = executor.map(download_one, sorted(cc_list)) # 여러 스레드 호출. 결과값만 반환함\n",
    "    return len(list(res))"
   ]
  },
  {
   "cell_type": "markdown",
   "metadata": {},
   "source": [
    "### Where Are the Futures?\n",
    "\n",
    "Future 클래스 \n",
    "1. concurrent.futrues.Future\n",
    "2. asyncio.Future \n",
    "\n",
    "두 객체 지연된 계산을 표현하기 위해 사용 \n",
    "\n",
    "객체를 직접 생성하면 안된다. \n",
    "\n",
    "Future 객체는 concurrent.futures 나 asyncio 같은 동시성 프레임워크에서만 배타적으로 생성해야 함.\n",
    "\n",
    "Future 는 앞으로 일어날 일을 나타내고, Future 의 실행을 스케줄링하는 프레임워크만이 어떤 일이 일어날지 확실히 알수 있음\n",
    "\n",
    "current.futures.Future 객체는 concurrent.futures.Executor 의 서브클래스로 실행을 스케쥴링 한 후에만 생성 됨 \n",
    "\n",
    "Executor.submit() 콜러블을 받아서 콜러블의 실행을 스케쥴링하고 Future 객체를 반환\n",
    "\n",
    "Future 클래스 객체에 연결된 콜러블 실행의 완료 여부를 done() 메서드를 통해 전달 받거나 add_done_callback() 메서드를 통해 통보요청함 \n",
    "\n",
    "result() 메서드는 완료된 경우 콜러블 결과를 반환 또는 예외를 다시 발생시킴\n",
    "\n",
    "그러나 Future 객체 실행이 완료되지 않은경우 result() 동작이 다름 \n",
    "1. concurrency.futures.Future: f.result() 결과가 나올때까지 호출자의 스레드를 블로킹함. timeout 인수 전달 가능 \n",
    "2. asyncio.Future: asyncio.Future.result() 는 시간초과를 지원하지 않음. yield from 사용 Future 객체의 상태를 가져옴\n",
    "\n",
    "concurrent.future.as_completed() 함수를 사용해 Future 객체를 볼수 있음\n"
   ]
  },
  {
   "cell_type": "code",
   "execution_count": 4,
   "metadata": {},
   "outputs": [],
   "source": [
    "def download_many(cc_list):\n",
    "    cc_list = cc_list[:5]\n",
    "    with futures.ThreadPoolExecutor(max_workers=3) as executor:\n",
    "        to_do = []\n",
    "        for cc in sorted(cc_list):\n",
    "            future = executor.submit(download_one, cc)\n",
    "            to_do.append(future)\n",
    "            msg = 'Scheduled for {}: {}'\n",
    "            print(msg.format(cc, future))\n",
    "        \n",
    "        results = []\n",
    "        for future in futures.as_completed(to_do): \n",
    "            res = future.result()\n",
    "            msg = '{} result: {!r}'\n",
    "            print(msg.format(future, res)) # 실제 future 객체를 볼 수 있음 \n",
    "            results.append(res)\n",
    "    return len(results)"
   ]
  },
  {
   "cell_type": "markdown",
   "metadata": {},
   "source": [
    "concurrent.futures 는 Global Interpreter Lock (GIL) 에 의해 제한됨. 병렬로 동작하지 않는다. "
   ]
  },
  {
   "cell_type": "markdown",
   "metadata": {},
   "source": [
    "### Blocking I/O and the GIL\n",
    "\n",
    "CPython 인터프리터는 GIL 을 가짐. GIL 은 한번에 한 스레드만 파이썬 바이트코드를 실행하도록 제한. 단일 파이썬 프로세스가 동시에 다중 CPU 코어를 사용할수 없음.\n",
    "\n",
    "블로킹 입출력을 실행하는 모든 표준 라이브러리 함수는 OS 에서 결과를 기다리는 동안 GIL 을 해제\n",
    "\n",
    "입출력 위주의 작업을 실행하는 파이썬 프로그램은 파이썬 구현해도 스레드를 이용.\n",
    "\n",
    "예) 파이썬 스레드가 네트워크로부터의 응답을 기다리는 동안, 블로킹된 입출력 함수가 GIL 을 해제함으로써 다른 스레드가 실행될 수 있음.\n"
   ]
  },
  {
   "cell_type": "markdown",
   "metadata": {},
   "source": [
    "### Launching Processes with concurrent.futures\n",
    "\n",
    "concurrent.futures [concurrent.futures — Launching parallel tasks](https://docs.python.org/3/library/concurrent.futures.html)\n",
    "\n",
    "ProcessPoolExecutor 클래스를 사용해서 작업을 여러 파이썬 프로세스에 분산시켜 병렬 컴퓨팅 진행\n",
    "\n",
    "ProcessPoolExecutor 는 GIL 을 우회함, 계산위주의 작업을 수행해야하는 경우 가용한 CPU 를 모두 사용 \n",
    "\n",
    "ProcessPoolExecutor 와 ThreadFoolExecutor 는 모두 범용 Executor 인터페이스를 구현, 따라서, concurrent.futures 를 사용하는 경우에는 스레드 기반의 프로그램을 프로세스 기반의 프로그램으로 쉽게 변환가능 \n",
    "\n"
   ]
  },
  {
   "cell_type": "markdown",
   "metadata": {},
   "source": [
    "### Experimenting with Executor.map\n",
    "\n",
    "Excutor.map() 을 이용하면 콜러블을 아주 간단히 동작시에 실행할 수 있다. \n"
   ]
  },
  {
   "cell_type": "code",
   "execution_count": 1,
   "metadata": {},
   "outputs": [],
   "source": [
    "from time import sleep, strftime\n",
    "from concurrent import futures\n",
    "\n",
    "def display(*args):\n",
    "    print(strftime('[%H:%M:%S]'), end=' ')\n",
    "    print(*args)\n",
    "\n",
    "def loiter(n):\n",
    "    msg = '{}loiter({}): doing nothing for {}s...'\n",
    "    display(msg.format('\\t'*n, n, n))\n",
    "    sleep(n)\n",
    "    msg = '{}loiter({}): done.'\n",
    "    display(msg.format('\\t'*n, n))\n",
    "    return n * 10\n",
    "\n",
    "def main():\n",
    "    display('Script starting.')\n",
    "    executor = futures.ThreadPoolExecutor(max_workers=3)\n",
    "    results = executor.map(loiter, range(5))\n",
    "    display('results:', results) # .\n",
    "    display('Waiting for individual results:')\n",
    "    for i, result in enumerate(results):\n",
    "        display('result {}: {}'.format(i, result))\n",
    "#         for 루프 안에서 enumerate()를 호출하면 암묵적으로 next(result)를 호출하는데, \n",
    "#         next(results) 는 먼저 내부적으로 첫번째 호출한 loiter(0) 을 나타내는 Future 객체 _f 의 result() 메서드를 호출한다. \n",
    "#         _f.result() 메서드느 _f 가 완료될 떄까지 블로킹되므로, 다음번 결과가 나올때까지는 이 루프는 블로킹된다. "
   ]
  },
  {
   "cell_type": "code",
   "execution_count": 2,
   "metadata": {},
   "outputs": [
    {
     "name": "stdout",
     "output_type": "stream",
     "text": [
      "[14:07:56] Script starting.\n",
      "[14:07:56][14:07:56]  loiter(0): doing nothing for 0s...\n",
      "[14:07:56]\tloiter(1): doing nothing for 1s...\n",
      " loiter(0): done.\n",
      "[14:07:56] \t\tloiter(2): doing nothing for 2s...\n",
      "[14:07:56][14:07:56] \t\t\tloiter(3): doing nothing for 3s...\n",
      " results: <generator object Executor.map.<locals>.result_iterator at 0x7f3848439eb8>\n",
      "[14:07:56] Waiting for individual results:\n",
      "[14:07:56] result 0: 0\n",
      "[14:07:57] \tloiter(1): done.\n",
      "[14:07:57] \t\t\t\tloiter(4): doing nothing for 4s...\n",
      "[14:07:57] result 1: 10\n",
      "[14:07:58] \t\tloiter(2): done.\n",
      "[14:07:58] result 2: 20\n",
      "[14:07:59] \t\t\tloiter(3): done.\n",
      "[14:07:59] result 3: 30\n",
      "[14:08:01] \t\t\t\tloiter(4): done.\n",
      "[14:08:01] result 4: 40\n"
     ]
    }
   ],
   "source": [
    "main()"
   ]
  },
  {
   "cell_type": "markdown",
   "metadata": {},
   "source": [
    "Excutor.map() 은 사용하기 쉽지만, 호출한 순서대로 그대로 결과를 반환하는 특징이 있다. 최종결과를 얻기까지 기다려야 한다. \n",
    "\n",
    "완료되는대로 결과를 가져오려면 excutor.submit() 메서드와 futures.as_completed() 함수를 함꼐 사용해야한다. \n",
    "\n",
    "submit() 이 다양한 콜러블과 인수를 제출할 수 있는 반면 \n",
    "executor.map() 은 여러인수에 동일한 콜러블을 실행하도록 설계되어 있으므로, \n",
    "excutor.submit()/futures.as_complemted() 조합이 executor.map() 보다 융통성이 높다. \n",
    "\n",
    "게다가 일부 ThreadPoolExecutor 객체에서, 다른 일부는 ProcessPoolExecutor 객체에서 가져오는 등 여러 excutor 에서 가져온 Future 객체의 집합을 futures.as_completed() 에 전달 할수 있다. "
   ]
  },
  {
   "cell_type": "markdown",
   "metadata": {},
   "source": [
    "### Downloads with Progress Display and Error Handling\n",
    "\n",
    "text 기반 progress bar [TQDM](https://github.com/tqdm/tqdm)"
   ]
  },
  {
   "cell_type": "markdown",
   "metadata": {},
   "source": [
    "모두 파일을 실제로 받는 download_one() 함수가 404 에러를 처리한다. \n",
    "\n",
    "그외에 다른 에러는 위로 전달되어 download_many() 함수가 처리한다.\n"
   ]
  },
  {
   "cell_type": "markdown",
   "metadata": {},
   "source": [
    "### Error Handling in the flags2 Examples\n",
    "\n",
    "스레드 버전으로 만든 flags_threadpool \n",
    "\n",
    "future.as_completed(), futures.ThreadPoolExecutor 사용"
   ]
  },
  {
   "cell_type": "code",
   "execution_count": 5,
   "metadata": {},
   "outputs": [],
   "source": [
    "def get_flag(base_url, cc):\n",
    "    url = '{}/{cc}/{cc}.gif'.format(base_url, cc=cc.lower())\n",
    "    resp = requests.get(url)\n",
    "    if resp.status_code != 200:\n",
    "        # 200 에러가 아니면 에러 발생시킴\n",
    "        resp.raise_for_status() \n",
    "    return resp.content\n",
    "\n",
    "def download_one(cc, base_url, verbose=False):\n",
    "    try:\n",
    "        image = get_flag(base_url, cc)\n",
    "    except requests.exceptions.HTTPError as exc:\n",
    "        # 404 에러 처리\n",
    "        res = exc.response\n",
    "        if res.status_code == 404:\n",
    "            status = HTTPStatus.not_found\n",
    "            msg = 'not found'\n",
    "        else:\n",
    "            # 그 외의 HTTPError 예외를 다시 발생시켜 호출자로 전달\n",
    "            raise\n",
    "    else:\n",
    "        save_flag(image, cc.lower() + '.gif')\n",
    "        status = HTTPStatus.ok\n",
    "        msg = 'OK'\n",
    "    \n",
    "    if verbose:\n",
    "        # -v 옵션을 설정한경우 국가 코드와 메시지가 출력\n",
    "        print(cc, msg)\n",
    "    # download_one() 에서 반환한 Result nametuple 은 status 필드에 HTTPStatus.not_found 나 HTTPStatus.ok 를 가짐 \n",
    "    return Result(status, cc)"
   ]
  },
  {
   "cell_type": "markdown",
   "metadata": {},
   "source": [
    "download_many 함수는 진행상황을 보여주고 에러를 처리하고, 내려받은 항목의 합계를 구한다. "
   ]
  },
  {
   "cell_type": "code",
   "execution_count": 7,
   "metadata": {},
   "outputs": [],
   "source": [
    "def download_many(cc_list, base_url, verbose, max_req):\n",
    "    counter = collections.Counter() # HTTPStatus ok, not_found, error 합계를 구함\n",
    "    cc_iter = sorted(cc_list)\n",
    "    \n",
    "    if not verbose:\n",
    "        cc_iter = tqdm.tqdm(cc_iter)\n",
    "        # tqdm() 은 움직이는 진행막대를 보여주면서 cc_iter 에 들어 있는 항목을 생성하는 반복자를 반환\n",
    "    \n",
    "    for cc in cc_iter:\n",
    "        try:\n",
    "            res = download_one(cc, base_url, verbose)\n",
    "            \n",
    "        except requests.exceptions.HTTPError as exc:\n",
    "            # HTTP 관련 예외 \n",
    "            error_msg = 'HTTP error {res.status_code} - {res.reason}'\n",
    "            error_msg = error_msg.format(res=exc.response)\n",
    "            \n",
    "        except requests.exceptions.ConnectionError as exc:\n",
    "            # 다른 네트워트 에러 \n",
    "            error_msg = 'Connection error'\n",
    "        \n",
    "        else:\n",
    "            # 아무 예외도 나오지 않은 경우 download_one 반환한 HTTPStatus nametuple 에서 status 값을 가져옴\n",
    "            error_msg = ''\n",
    "            status = res.status\n",
    "            \n",
    "        if error_msg:\n",
    "            status = HTTPStatus.error\n",
    "        counter[status] += 1\n",
    "            \n",
    "        if verbose and error_msg:\n",
    "            print('*** Error for {}: {}'.format(cc, error_msg))\n",
    "            \n",
    "    return counter"
   ]
  },
  {
   "cell_type": "markdown",
   "metadata": {},
   "source": [
    "### Using futures.as_completed\n"
   ]
  },
  {
   "cell_type": "code",
   "execution_count": 14,
   "metadata": {},
   "outputs": [],
   "source": [
    "# import collections\n",
    "# from concurrent import futures\n",
    "# import requests\n",
    "# import tqdm\n",
    "# from flags2_common import main, HTTPStatus\n",
    "# from flags2_sequential import download_one\n",
    "\n",
    "DEFAULT_CONCUR_REQ = 30 # -m 옵션이 없으면 최대 동시 요청수 (스레드풀의 크기로 사용)\n",
    "MAX_CONCUR_REQ = 1000 # -m 에 상관없이 동시 요청수를 제한 (안전장치)\n",
    "\n",
    "def download_many(cc_list, base_url, verbose, concur_req):\n",
    "    counter = collections.Counter()\n",
    "    with futures.ThreadPoolExecutor(max_workers=concur_req) as executor:\n",
    "        # MAX_CONCUR_REQ, cc_list 길이, -m 중 작은 값을 concur_req 값으로 max_worker 설정 \n",
    "        to_do_map = {}\n",
    "        for cc in sorted(cc_list):\n",
    "            # 결과는 HTTP 응답 시간에 의해 결정\n",
    "            # concur_req 로 지정한 스레드 풀의 크기가 len(cc_list) 의 항목수보다 적으면 알파넷 순으로 나옴 \n",
    "            future = executor.submit(download_one, cc, base_url, verbose) # cc 는 콜러블 나머지 뒤 인수는 콜러블에 전달\n",
    "            to_do_map[future] = cc\n",
    "            done_iter = futures.as_completed(to_do_map) # 완료된 순서대로 Future 객체를 생성하는 반복자를 반환\n",
    "        \n",
    "        if not verbose:\n",
    "            # 상태 메시지가 아닌경우 진행막대 출력 total 인수를 알려줘야 예상시간 계산 가능\n",
    "            done_iter = tqdm.tqdm(done_iter, total=len(cc_list))\n",
    "        \n",
    "        for future in done_iter:\n",
    "            try:\n",
    "                res = future.result()\n",
    "            except requests.exceptions.HTTPError as exc:\n",
    "                error_msg = 'HTTP {res.status_code} - {res.reason}'\n",
    "                error_msg = error_msg.format(res=exc.response)\n",
    "            except requests.exceptions.ConnectionError as exc:\n",
    "                error_msg = 'Connection error'\n",
    "            else:\n",
    "                error_msg = ''\n",
    "                status = res.status\n",
    "            \n",
    "            if error_msg:\n",
    "                status = HTTPStatus.error\n",
    "            counter[status] += 1\n",
    "            if verbose and error_msg:\n",
    "                # Future 객체를 키로 사용해서 에러 메시지 정보 제공 \n",
    "                cc = to_do_map[future]\n",
    "                print('*** Error for {}: {}'.format(cc, error_msg))\n",
    "    return counter\n",
    "\n",
    "# if __name__ == '__main__':\n",
    "#     main(download_many, DEFAULT_CONCUR_REQ, MAX_CONCUR_REQ)"
   ]
  },
  {
   "cell_type": "markdown",
   "metadata": {},
   "source": [
    "### Threading and Multiprocessing Alternatives\n",
    "\n",
    "concurrent.futures 는 단지 스레드를 사용하기 위해 나중에 추가된 방법 \n",
    "\n",
    "파이썬3에서는 스레드 사용을 중단했다. \n",
    "\n",
    "[threading](https://docs.python.org/3/library/threading.html) 모듈을 권장한다. \n",
    "\n",
    "futures.ThreadPoolExecutor 로 처리하기 어려운 작업을 수행하는 경우 Thread, Lock, Semaphore 등 threading 모듈의 기본 컴포넌트로 처리 가능하다.\n",
    "\n",
    "스레드간 데이터 전송은 queue 모듈에서 제공하는 스레드 안전큐를 사용\n",
    "\n",
    "계산위주의 작업은 여러프로세스를 실행하는 GIL 을 피해야한다. \n",
    "\n",
    "[multiprocessing](https://docs.python.org/3/library/multiprocessing.html?highlight=multiprocessing#module-multiprocessing) 패키지를 사용해야 한다. \n"
   ]
  }
 ],
 "metadata": {
  "kernelspec": {
   "display_name": "Python 3",
   "language": "python",
   "name": "python3"
  },
  "language_info": {
   "codemirror_mode": {
    "name": "ipython",
    "version": 3
   },
   "file_extension": ".py",
   "mimetype": "text/x-python",
   "name": "python",
   "nbconvert_exporter": "python",
   "pygments_lexer": "ipython3",
   "version": "3.6.8"
  }
 },
 "nbformat": 4,
 "nbformat_minor": 2
}
