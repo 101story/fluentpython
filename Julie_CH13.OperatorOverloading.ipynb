{
 "cells": [
  {
   "cell_type": "markdown",
   "metadata": {},
   "source": [
    "# Fluent Python\n",
    "https://github.com/fluentpython/example-code\n",
    "\n",
    "파이썬 용어집 \n",
    "\n",
    "https://docs.python.org/ko/3/glossary.html"
   ]
  },
  {
   "cell_type": "code",
   "execution_count": 1,
   "metadata": {},
   "outputs": [],
   "source": [
    "from IPython.core.interactiveshell import InteractiveShell\n",
    "InteractiveShell.ast_node_interactivity = \"all\"\n",
    "\n",
    "import pandas as pd\n",
    "import numpy as np\n",
    "\n",
    "def time_check(func):\n",
    "    def decorated():\n",
    "        import time\n",
    "        start = time.time()\n",
    "        func()\n",
    "        print(\"---{}s seconds---\".format(time.time()-start_time))\n",
    "    return decorated# Fluent Python"
   ]
  },
  {
   "cell_type": "markdown",
   "metadata": {},
   "source": [
    "## CHAPTER 13. Operator Overloading: Doing It Right\n"
   ]
  },
  {
   "cell_type": "markdown",
   "metadata": {},
   "source": [
    "### Operator Overloading 101\n",
    "\n",
    "연산자 오버로딩을 잘사용하면 코드의 가독성이 향상된다. \n",
    "\n",
    "제한 \n",
    " - 내장형 자료형에 대한 연사자는 오버로딩 할 수 없다. \n",
    " - 새로운 연사낮를 생성할 수 없으며, 기존 연산자를 오버로딩만 할 수 있다. \n",
    " - is, and, or, not 연산자는 오버로딩 할 수 없다. (그러나 &, |, ~ 비트 연산자는 가능하다)\n",
    " \n",
    "### Overloading + for Vector Addition\n",
    "\n",
    "a + b steps \n",
    "1. If a has \\_\\_add\\_\\_, call a.\\_\\_add\\_\\_(b) and return result unless it’s NotImplemented.\n",
    "2. If a doesn’t have \\_\\_add\\_\\_, or calling it returns NotImplemented, check if b has \\_\\_radd\\_\\_, then call b.\\_\\_radd\\_\\_(a) and return result unless it’s NotImplemented.\n",
    "3. If b doesn’t have \\_\\_radd\\_\\_, or calling it returns NotImplemented, raise TypeError with an unsupported operand types message."
   ]
  },
  {
   "cell_type": "markdown",
   "metadata": {},
   "source": [
    "```python\n",
    "# inside the Vector class\n",
    "def __add__(self, other): #\n",
    "    pairs = itertools.zip_longest(self, other, fillvalue=0.0)\n",
    "    return Vector(a + b for a, b in pairs)\n",
    "def __radd__(self, other): #\n",
    "    return self + other\n",
    "```"
   ]
  },
  {
   "cell_type": "markdown",
   "metadata": {},
   "source": [
    "### Overloading * for Scalar Multiplication \n",
    "\n",
    "\n",
    "(구스타이핑) scalar 의 자료형을 검삭하기 위해 isinstance() 함수를 사용하지만, 어떤 구체적인 자료형으로 하드코딩하는 대신 number.Real ABC 로 검사한다. number.Real 은 이 메서드에 필요한 자료형을 모두 포함할 뿐 아니라 향후에 numbers.Real ABC 의 실제 서브클래스나 가상서브클래스로 선언될 수치형 자료도 모두 포함한다. \n",
    "\n",
    "```python\n",
    "def __mul__(self, scalar):\n",
    "    if isinstance(scalar, numbers.Real): #\n",
    "        return Vector(n * scalar for n in self)\n",
    "    else: #\n",
    "        return NotImplemented\n",
    "\n",
    "def __rmul__(self, scalar):\n",
    "    return self * scalar\n",
    "```"
   ]
  },
  {
   "cell_type": "markdown",
   "metadata": {},
   "source": [
    "### The New @ Infix Operator in Python 3.5\n",
    "\n",
    "@ 중위 연산자 \n",
    "\n",
    "a@b 는 a 행렬과 b 행렬의 내적을 나타낸다. \n",
    "\n",
    "\\_\\_matmul\\_\\_(), \\_\\_rmatmul\\_\\_(), \\_\\_imatmul\\_\\_() 에 의해 지원된다. \n"
   ]
  },
  {
   "cell_type": "markdown",
   "metadata": {},
   "source": [
    "### Rich Comparison Operators\n",
    "\n",
    "The handling of the rich comparison operators ==, !=, >, <, >=, <= by the Python interpreter is\n",
    "\n",
    "> 먼저 정방향 메서드를 실행하고, NotImplemented 가 반환되면 역순 메서드를 실행한다. \n",
    "\n",
    "차이점\n",
    "- 정방향과 역순 연산자에 동일한 세트의 메서드가 사용된다. 예) == 연산자: 정방향과 역순으로 실행하기 위해 인수만 바꿔서 동일한 \\_\\_eq\\_\\_() 를 호출하지만, 정방향으로 \\_\\_qt\\_\\_() 를 호출하는 경우, 역순으로 인수를 바꿔서 \\_\\_lt\\_\\_() 를 호출한다. \n",
    "- ==, != 경우 역순메서드가 실패하면, 파이썬은 TypeError 를 발생시키는 대신 객체의 ID 를 비교한다. \n",
    "\n",
    "**In the face of ambiguity, refuse the temptation to guess**"
   ]
  },
  {
   "cell_type": "markdown",
   "metadata": {},
   "source": [
    "### Augmented Assignment Operators\n",
    "\n",
    "a += b 는 a = a + b 와 동일, 가변형의 경우 (immutable type) \\_\\_add\\_\\_() 메서드가 구현되어 있으면 += 연산자도 작동한다. \n",
    "\n",
    "\\_\\_iadd\\_\\_() in-place operator method 를 정의한 경우, a += b 를 계산하기 위해 정의된 메서드가 호출된다. 새로운 객체를 생성하지 않고 피연산자를 직접 변경한다.\n",
    "\n"
   ]
  },
  {
   "cell_type": "markdown",
   "metadata": {},
   "source": [
    "isinstance() 함수를 사용할 때는 구상 클래스가 아닌 추상 클래스를 이용해서 isinstance(scalar, number.Real) 과 같이 검사했다. 추상클래스를 사용하면 융통성과 안전성을 적절히 보장 할수 있따. 기존 또는 향후 사용자가 성의한 자료형이 ABC 의 실제 또는 가상 서브클래스로 선언될 수 있기 때문이다. \n",
    "\n",
    "ABC 가 제공하는 엄격한 형태의 덕타이핑 (구스타이핑) 를 이용해서 오버로딩을 구현하는 것이 좋은 경우도 있다. \n"
   ]
  },
  {
   "cell_type": "code",
   "execution_count": null,
   "metadata": {},
   "outputs": [],
   "source": []
  }
 ],
 "metadata": {
  "kernelspec": {
   "display_name": "Python 3",
   "language": "python",
   "name": "python3"
  },
  "language_info": {
   "codemirror_mode": {
    "name": "ipython",
    "version": 3
   },
   "file_extension": ".py",
   "mimetype": "text/x-python",
   "name": "python",
   "nbconvert_exporter": "python",
   "pygments_lexer": "ipython3",
   "version": "3.6.8"
  }
 },
 "nbformat": 4,
 "nbformat_minor": 2
}
