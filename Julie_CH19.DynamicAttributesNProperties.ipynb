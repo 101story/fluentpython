{
 "cells": [
  {
   "cell_type": "markdown",
   "metadata": {},
   "source": [
    "# Fluent Python\n",
    "https://github.com/fluentpython/example-code\n",
    "\n",
    "파이썬 용어집 \n",
    "\n",
    "https://docs.python.org/ko/3/glossary.html"
   ]
  },
  {
   "cell_type": "code",
   "execution_count": 4,
   "metadata": {},
   "outputs": [],
   "source": [
    "from IPython.core.interactiveshell import InteractiveShell\n",
    "InteractiveShell.ast_node_interactivity = \"all\"\n",
    "\n",
    "import pandas as pd\n",
    "import numpy as np\n"
   ]
  },
  {
   "cell_type": "markdown",
   "metadata": {},
   "source": [
    "속성, 메서드 모두 **속성** \n",
    "\n",
    "메서드는 단지 호출할수 있는 속성\n",
    "\n",
    "그외에 프로퍼티를 사용해서 인터페이스를 변경하지 않고 공개 데이터 속성을 접근자메서드(getter, setter) 로 대체 할수 있다. \n",
    "\n",
    "**모듈이 제공하는 모든 서비스는 통일된 표기법을 이용해서 접근할 수 있어야 한다. 통일된 포기법은 저장소를 이용해서 구현하거나 계산을 통해 구현하는 경우에도 모두 동일하게 적용된다.**\n",
    "\n",
    "속성에 대한 접근을 제어하고 동적 속성을 구현할 수 있는 API 제공\n",
    "\n",
    "obj.attr, obj.no_such_attribute 구현해서 가상 속성을 구현가능 \n",
    "\n"
   ]
  },
  {
   "cell_type": "markdown",
   "metadata": {},
   "source": [
    "## Data Wrangling with Dynamic Attributes\n",
    "\n",
    "wringling : raw data를 분석하기 좋은 데이터로 변환하는 작업\n",
    "\n"
   ]
  },
  {
   "cell_type": "code",
   "execution_count": null,
   "metadata": {},
   "outputs": [],
   "source": []
  }
 ],
 "metadata": {
  "kernelspec": {
   "display_name": "Python 3",
   "language": "python",
   "name": "python3"
  },
  "language_info": {
   "codemirror_mode": {
    "name": "ipython",
    "version": 3
   },
   "file_extension": ".py",
   "mimetype": "text/x-python",
   "name": "python",
   "nbconvert_exporter": "python",
   "pygments_lexer": "ipython3",
   "version": "3.6.8"
  }
 },
 "nbformat": 4,
 "nbformat_minor": 2
}
