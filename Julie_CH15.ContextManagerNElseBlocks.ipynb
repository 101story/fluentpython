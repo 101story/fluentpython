{
 "cells": [
  {
   "cell_type": "markdown",
   "metadata": {},
   "source": [
    "# Fluent Python\n",
    "https://github.com/fluentpython/example-code\n",
    "\n",
    "파이썬 용어집 \n",
    "\n",
    "https://docs.python.org/ko/3/glossary.html"
   ]
  },
  {
   "cell_type": "code",
   "execution_count": 1,
   "metadata": {},
   "outputs": [],
   "source": [
    "from IPython.core.interactiveshell import InteractiveShell\n",
    "InteractiveShell.ast_node_interactivity = \"all\"\n",
    "\n",
    "import pandas as pd\n",
    "import numpy as np\n"
   ]
  },
  {
   "cell_type": "markdown",
   "metadata": {},
   "source": [
    "## CHAPTER 15. Context Managers and else Blocks\n",
    "\n",
    "\n",
    "### Do This, Then That: else Blocks Beyond if\n",
    "\n",
    "* for/else\n",
    "    for 완전히 실행된 후 (break 문으로 멈추지 않으면) else 블록 실행\n",
    "* while/else\n",
    "    while 문의 조건이 거짓이 되어 (break 문으로 멈추지 않으면) else 블록 실행\n",
    "* try/else\n",
    "    try 예외가 발생하지 않을 때만 else 실행. else 에서 발생한 예외는 처리 되지 않는다. \n",
    "    \n",
    "예외, return, break, continue 문이 복합문의 주요 블럭을 빠져나오게 만들면 else 블록은 실행되지 않는다. \n",
    "\n",
    "* EAFP\n",
    "허락을 구하기보다 용서를 구하는 것이 쉽다. Easier to ask for forgiveness than permission. <br>\n",
    "가정이 잘못되었을때는 예외를 잡아서 처리하는 스타일 try/chtch\n",
    "\n",
    "* LBYL\n",
    "누울자리를 보고 발을 뻗는다. Look before you leap <br>\n",
    "호출이나 조회하기 전에 조건을 검사한다. if \n",
    "\n",
    "파이썬에서는 **EAFP** 사용 \n"
   ]
  },
  {
   "cell_type": "markdown",
   "metadata": {},
   "source": [
    "### Context Managers and with Blocks\n",
    "\n",
    "context manager 의 프로토콜은 \\_\\_enter\\_\\_() dhk \\_\\_exit\\_\\_() 로 구성됨. <br>\n",
    "with 문이 시작될 떄 콘텍스트 관리자의 객체의 \\_\\_enter\\_\\_() 메서드가 호출. <br>\n",
    "with 블록의 끝에서 finally 절의 역할을 수행. \n"
   ]
  },
  {
   "cell_type": "code",
   "execution_count": 2,
   "metadata": {},
   "outputs": [],
   "source": [
    "class LookingGlass:\n",
    "    \n",
    "    def __enter__(self):\n",
    "        import sys\n",
    "        self.original_write = sys.stdout.write # Monkey-patch\n",
    "        sys.stdout.write = self.reverse_write\n",
    "        return 'JABBERWOCKY' # as 변수 what 에 문자열 반환 \n",
    "    \n",
    "    def reverse_write(self, text):\n",
    "        self.original_write(text[::-1])\n",
    "        \n",
    "    def __exit__(self, exc_type, exc_value, traceback):\n",
    "        import sys\n",
    "        sys.stdout.write = self.original_write\n",
    "        if exc_type is ZeroDivisionError:\n",
    "            print('Please DO NOT divide by zero!')\n",
    "            return True"
   ]
  },
  {
   "cell_type": "code",
   "execution_count": 3,
   "metadata": {},
   "outputs": [
    {
     "name": "stdout",
     "output_type": "stream",
     "text": [
      "pordwonS dna yttiK ,ecilA\n",
      "YKCOWREBBAJ\n"
     ]
    },
    {
     "data": {
      "text/plain": [
       "'JABBERWOCKY'"
      ]
     },
     "execution_count": 3,
     "metadata": {},
     "output_type": "execute_result"
    }
   ],
   "source": [
    "with LookingGlass() as what:\n",
    "    print('Alice, Kitty and Snowdrop')\n",
    "    print(what)\n",
    "    \n",
    "what"
   ]
  },
  {
   "cell_type": "code",
   "execution_count": 4,
   "metadata": {},
   "outputs": [
    {
     "name": "stdout",
     "output_type": "stream",
     "text": [
      "Back to normal\n"
     ]
    }
   ],
   "source": [
    "print('Back to normal')"
   ]
  },
  {
   "cell_type": "markdown",
   "metadata": {},
   "source": [
    "tip) 표준 출력을 가로챌때 sys.stdout 을 다른 객체로 사용한다. 참고 [contextlib.redirect_stdout](https://docs.python.org/3/library/contextlib.html#contextlib.redirect_stdout) \n"
   ]
  },
  {
   "cell_type": "markdown",
   "metadata": {},
   "source": [
    "* \\_\\_exit\\_\\_() 의 세가지 인수 \n",
    "    - exc_type : The exception class (e.g., ZeroDivisionError).\n",
    "    - exc_value : The exception instance. Sometimes, parameters passed to the exception constructor—such as the error message—can be found in exc_value.args.\n",
    "    - traceback : A traceback object.3"
   ]
  },
  {
   "cell_type": "markdown",
   "metadata": {},
   "source": [
    "createive uses of context manager \n",
    "- Managing transactions in the sqlite3 module; see “[12.6.7.3. Using the connection as a context manager](https://docs.python.org/3/library/sqlite3.html#using-the-connection-as-a-context-manager)”.\n",
    "- Holding locks, conditions, and semaphores in threading code; see “[17.1.10. Using locks, conditions, and semaphores in the with statement](https://docs.python.org/3/library/threading.html#using-locks-conditions-and-semaphores-in-the-with-statement)”.\n",
    "- Setting up environments for arithmetic operations with Decimal objects; see [the decimal.localcontext documentation](https://docs.python.org/3/library/decimal.html#decimal.localcontext).\n",
    "- Applying temporary patches to objects for testing; see [the unittest.mock.patch function](https://docs.python.org/3/library/unittest.mock.html#patch)."
   ]
  },
  {
   "cell_type": "markdown",
   "metadata": {},
   "source": [
    "### The contextlib Utilities\n",
    "\n",
    "contextlib 의 유용한 함수들 \n",
    "\n",
    "- closing : A function to build context managers out of objects that provide a close() method but don’t implement the \\_\\_enter\\_\\_/\\_\\_exit\\_\\_ protocol.\n",
    "\n",
    "\n",
    "- suppress : A context manager to temporarily ignore specified exceptions. \n",
    "\n",
    "\n",
    "- @contextmanager: A decorator that lets you build a context manager from a simple generator function, instead of creating a class and implementing the protocol.\n",
    "\n",
    "\n",
    "- ContextDecorator : A base class for defining class-based context managers that can also be used as function decorators, running the entire function within a managed context.\n",
    "\n",
    "\n",
    "- ExitStack : A context manager that lets you enter a variable number of context managers. When the with block ends, ExitStack calls the stacked context managers’\\_\\_exit\\_\\_ methods in LIFO order (last entered, first exited)."
   ]
  },
  {
   "cell_type": "markdown",
   "metadata": {},
   "source": [
    "### Using @contextmanager\n",
    "\n",
    "@contextmanger 로 decorate 된 제너레이터에서 yeild 함수 본체를 두 부분으로 나누기 위해 사용. <br>\n",
    "yield 문 앞에 있는 모든 코드는 with 블록 앞에서 인터프리터가 \\_\\_enter\\_\\_() 를 호출할떄 실행, <br>\n",
    "yield 문 뒤에 있는 코드는 블록의 마지막에 \\_\\_exit\\_\\_() 가 호출될때 실행된다. \n",
    "\n"
   ]
  },
  {
   "cell_type": "code",
   "execution_count": 25,
   "metadata": {},
   "outputs": [],
   "source": [
    "import contextlib\n",
    "\n",
    "@contextlib.contextmanager\n",
    "def looking_glass():\n",
    "    import sys\n",
    "    original_write = sys.stdout.write\n",
    "\n",
    "    def reverse_write(text):\n",
    "        original_write(text[::-1])\n",
    "        \n",
    "    sys.stdout.write = reverse_write\n",
    "    msg = ''\n",
    "    try:\n",
    "        yield 'JABBERWOCKY'\n",
    "    except ZeroDivisionError:\n",
    "        msg = 'Please DO NOT divide by zero!'\n",
    "    finally:\n",
    "        sys.stdout.write = original_write\n",
    "    if msg:\n",
    "        print(msg)\n",
    "    print(\"abc\")"
   ]
  },
  {
   "cell_type": "code",
   "execution_count": 26,
   "metadata": {},
   "outputs": [
    {
     "name": "stdout",
     "output_type": "stream",
     "text": [
      "pordwonS dna yttiK ,ecilA\n"
     ]
    },
    {
     "ename": "BaseException",
     "evalue": "",
     "output_type": "error",
     "traceback": [
      "\u001b[0;31m---------------------------------------------------------------------------\u001b[0m",
      "\u001b[0;31mBaseException\u001b[0m                             Traceback (most recent call last)",
      "\u001b[0;32m<ipython-input-26-2a710c814ffa>\u001b[0m in \u001b[0;36m<module>\u001b[0;34m\u001b[0m\n\u001b[1;32m      1\u001b[0m \u001b[0;32mwith\u001b[0m \u001b[0mlooking_glass\u001b[0m\u001b[0;34m(\u001b[0m\u001b[0;34m)\u001b[0m \u001b[0;32mas\u001b[0m \u001b[0mwhat\u001b[0m\u001b[0;34m:\u001b[0m\u001b[0;34m\u001b[0m\u001b[0;34m\u001b[0m\u001b[0m\n\u001b[1;32m      2\u001b[0m     \u001b[0mprint\u001b[0m\u001b[0;34m(\u001b[0m\u001b[0;34m'Alice, Kitty and Snowdrop'\u001b[0m\u001b[0;34m)\u001b[0m\u001b[0;34m\u001b[0m\u001b[0;34m\u001b[0m\u001b[0m\n\u001b[0;32m----> 3\u001b[0;31m     \u001b[0;32mraise\u001b[0m \u001b[0mBaseException\u001b[0m \u001b[0;31m# yield 구문에서 exception 발생했을때 context 객체의 finally\u001b[0m\u001b[0;34m\u001b[0m\u001b[0;34m\u001b[0m\u001b[0m\n\u001b[0m\u001b[1;32m      4\u001b[0m     \u001b[0mprint\u001b[0m\u001b[0;34m(\u001b[0m\u001b[0mwhat\u001b[0m\u001b[0;34m)\u001b[0m\u001b[0;34m\u001b[0m\u001b[0;34m\u001b[0m\u001b[0m\n\u001b[1;32m      5\u001b[0m \u001b[0;34m\u001b[0m\u001b[0m\n",
      "\u001b[0;31mBaseException\u001b[0m: "
     ]
    }
   ],
   "source": [
    "with looking_glass() as what:\n",
    "    print('Alice, Kitty and Snowdrop')\n",
    "    raise BaseException \n",
    "    # yield 구문에서 exception 발생했을때 \n",
    "    # context 객체의 finally 에 close 작업을 넣어 주지 않으면 exit 가 되지 않음 \n",
    "    print(what)\n",
    "    \n",
    "what    "
   ]
  },
  {
   "cell_type": "code",
   "execution_count": 27,
   "metadata": {},
   "outputs": [
    {
     "name": "stdout",
     "output_type": "stream",
     "text": [
      "abc\n"
     ]
    }
   ],
   "source": [
    "print(\"abc\")"
   ]
  },
  {
   "cell_type": "markdown",
   "metadata": {},
   "source": [
    "The \\_\\_enter\\_\\_ method of that class:\n",
    "1. 제너레이터 함수를 호출해서 제너레이터 객체를 보관한다. (객체를 gen 이라고 부름)\n",
    "2. next(gen) 을 호출해서 yield 키워드 앞까지 실행\n",
    "3. next(gen) 이 생성한 값을 반환해서 이 값이 as 절의 타깃 변수에 바인딩 되게 함\n",
    "\n",
    "When the with block terminates, the \\_\\_exit\\_\\_ method:\n",
    "1. exc_type 에 예외가 전달 되었는지 확인. 만일 전달 되었다면, 제너레이터 함수 본체 안에 있는 yield 행에서 gen.throw(exception) 를 실행해서 예외를 발생시킨 것.\n",
    "2. 예외가 전달 되지 않았다면, next(gen) 을 호출해서 제너레이터 함수 본체 안의 yield 다음 코드를 실행"
   ]
  },
  {
   "cell_type": "markdown",
   "metadata": {},
   "source": [
    "\\_\\_exit\\_\\_() 예외 처리를 완료했음을 True 를 리턴함으로 인터프리터에게 알림. 인터프리터는 예외를 전파하지 않음. \n",
    "\n",
    "\\_\\_exit\\_\\_() 값을 반환하지 않으면, None 을 받음으로 예외를 전파함 \n",
    "\n",
    "@contextmanager 데코레이터를 사용하면 동작이 반대가 됨, 예외를 발생시키고 싶은 경우 명시적으로 예외를 발생시켜야함\n",
    "\n",
    "tip) @contextmanger 를 사용할때에는 어쩔수 없이 yield 문 주변을 try/finally 나 with 문으로 싸야 한다. context manager 의 사용자가 자신의 with 블록 안에서 어떤 일을 할지 모르기 때문이다."
   ]
  },
  {
   "cell_type": "code",
   "execution_count": null,
   "metadata": {},
   "outputs": [],
   "source": []
  }
 ],
 "metadata": {
  "kernelspec": {
   "display_name": "Python 3",
   "language": "python",
   "name": "python3"
  },
  "language_info": {
   "codemirror_mode": {
    "name": "ipython",
    "version": 3
   },
   "file_extension": ".py",
   "mimetype": "text/x-python",
   "name": "python",
   "nbconvert_exporter": "python",
   "pygments_lexer": "ipython3",
   "version": "3.6.8"
  }
 },
 "nbformat": 4,
 "nbformat_minor": 2
}
