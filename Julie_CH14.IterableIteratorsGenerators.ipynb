{
 "cells": [
  {
   "cell_type": "markdown",
   "metadata": {},
   "source": [
    "# Fluent Python\n",
    "https://github.com/fluentpython/example-code\n",
    "\n",
    "파이썬 용어집 \n",
    "\n",
    "https://docs.python.org/ko/3/glossary.html"
   ]
  },
  {
   "cell_type": "code",
   "execution_count": 2,
   "metadata": {},
   "outputs": [],
   "source": [
    "from IPython.core.interactiveshell import InteractiveShell\n",
    "InteractiveShell.ast_node_interactivity = \"all\"\n",
    "\n",
    "import pandas as pd\n",
    "import numpy as np\n",
    "\n",
    "def time_check(func):\n",
    "    def decorated():\n",
    "        import timea\n",
    "        start = time.time()\n",
    "        func()\n",
    "        print(\"---{}s seconds---\".format(time.time()-start_time))\n",
    "    return decorated# Fluent Python"
   ]
  },
  {
   "cell_type": "markdown",
   "metadata": {},
   "source": [
    "## CHAPTER 14. Iterables, Iterators, and Generators\n",
    "\n",
    "데이터셋을 검색할 때는 *느긋하게* 가져와야한다. 즉, 한번에 하나씩 그리고 필요할때 가져와야 한다. \n",
    "\n",
    "반복형 \n",
    "- for 루프 \n",
    "- 컬렉션형 생성과 확장\n",
    "- 텍스트 파일을 한줄씩 반복\n",
    "- 지능형 리스트, 딕셔너리, 집합\n",
    "- 튜플 언패킹\n",
    "- 함수 호출 시 * 를 이용해서 실제 매개변수를 언패킹"
   ]
  },
  {
   "cell_type": "markdown",
   "metadata": {},
   "source": [
    "### Sentence Take #1: A Sequence of Words\n",
    "\n",
    "#### Why Sequences Are Iterable: The iter Function\n",
    "\n",
    "iter() 함수 steps\n",
    "1. 객체가 \\_\\_iter\\_\\_() 메서드를 구현하는지 확인, 반복자를 가져옴\n",
    "2. \\_\\_iter\\_\\_() 없어도 \\_\\_getitem\\_\\_() 이 구현되어 있다면, 파이썬은 인텍스 0 에서 시작해서 항목을 순서대로 가져오는 반복자를 생성\n",
    "3. 전부 구현이 안되어 있으면, TypeError 'C' object is not iterable 메시지와 에러가 발생. 'C' 는 대상객체 클래스\n"
   ]
  },
  {
   "cell_type": "markdown",
   "metadata": {},
   "source": [
    "### Iterables Versus Iterators\n",
    "\n",
    "**iterable**\n",
    "- iter() 내장 함수가 반복자를 가져올 수 있는 모든 객체와 반복자를 반환하는 \\_\\_iter\\_\\_() 메서드 구현 객체는 iterable 이다. \\_\\_getitem\\_\\_() 구현 객체인 스퀀스도 마찬가지다.\n",
    "\n",
    "**\\_\\_next\\_\\_()**\n",
    "- 다음에 사용할 항목을 반환. 더이상 항목이 없으면 StopIteration 을 발생\n",
    "\n",
    "**\\_\\_iter\\_\\_()**\n",
    "- self 반환. 루프문등 필요한곳에서 iterator 를 사용 할수 있게함\n",
    "\n",
    "\n",
    "A concrete Iterable.iter should return a new Iterator instance. A concrete Iterator must implement next. The Iterator.iter method just returns the instance itself.\n",
    "\n",
    "The Iterator ABC implements __iter__ by doing return self.\n",
    "\n"
   ]
  },
  {
   "cell_type": "markdown",
   "metadata": {},
   "source": [
    "**Lib/types.py**\n",
    "- 파인썬의 반복자는 자료형이 아니라 프로토콜이다.\n",
    "- 상당히 많은 유동적인 수의 내장 자료형이 반복자의 *일부* 를 구현다. \n",
    "- 자료형을 검사하면 안된다. 대신 hasattr() 를 이용해서 \"\\_\\_iter\\_\\_()\" 와 \"\\_\\_next\\_\\_()\" 속성이 있는지 검사하라\n",
    "\n",
    "이런 조언과 \\_collections\\_adb.py 에 구현된 논리를 고려하면 x 가 반복자 인지 확인 하는 가장 좋은 방법은 isinstance(x, abc.iterator) 를 호출하는 것이다. Iterator.\\_\\_subclasshook\\_\\_() 메서드 덕분에 이 방법은 x 가 Iterator 의 실제 서브클래스 인 경우와 가상 서브클래스인 경우 모두 제대로 작동한다. \n",
    "\n",
    "반복자 필수 메서드 \\_\\_next\\_\\_(), \\_\\_iter\\_\\_() 밖에 없다. 반복자는 재설정 할수 없다. this will not reset a depleted iterator.\n",
    "\n",
    "**iterator**\n",
    "* 다음 항목을 반환하거나, 다음 항목이 없을 때 StopIteration 예외를 발생시키는, 인수를 받지 않는 \\_\\_next\\_\\_() 메서드를 구현하는 객체, "
   ]
  },
  {
   "cell_type": "markdown",
   "metadata": {},
   "source": [
    "### Sentence Take #2: A Classic Iterator"
   ]
  },
  {
   "cell_type": "code",
   "execution_count": 3,
   "metadata": {},
   "outputs": [],
   "source": [
    "import re\n",
    "import reprlib\n",
    "RE_WORD = re.compile('\\w+')\n",
    "\n",
    "class Sentence:\n",
    "    def __init__(self, text):\n",
    "        self.text = text\n",
    "        self.words = RE_WORD.findall(text)\n",
    "    \n",
    "    def __repr__(self):\n",
    "        return 'Sentence(%s)' % reprlib.repr(self.text)\n",
    "    \n",
    "    def __iter__(self): # 반복자를 리턴함 (반복형 프로토콜 구현)\n",
    "        return SentenceIterator(self.words)\n",
    "\n",
    "class SentenceIterator:\n",
    "    def __init__(self, words):\n",
    "        self.words = words\n",
    "        self.index = 0\n",
    "        \n",
    "    def __next__(self):\n",
    "        try:\n",
    "            word = self.words[self.index]\n",
    "        except IndexError:\n",
    "            raise StopIteration()\n",
    "        self.index += 1\n",
    "        return word\n",
    "    \n",
    "    def __iter__(self):\n",
    "        return self"
   ]
  },
  {
   "cell_type": "markdown",
   "metadata": {},
   "source": [
    "* 반복형은 호출될 때마다 본복자를 새로 생성하는 \\_\\_iter\\_\\_() 메서드를 가지고 있다. \n",
    "* 반복자는 개별항목을 반환하는 \\_\\_next\\_\\_() 메서드와 self 를 반환하는 \\_\\_iter\\_\\_() 메서드를 가진다. \n",
    "\n",
    "반복자 패턴 용도\n",
    "* 집합 객체의 내부 표현을 노출시키지 않고 내용에 접근하는 경우\n",
    "* 집합 객체의 다중 반복을 지원하는 경우\n",
    "* 다양한 집합 구조체를 반복하기 위한 통일된 인터페이스를 제공하는 경우 \n",
    "\n",
    "tip) \n",
    "반복형은 자기가신을 반복하는 반복자로 작동하면 안된다. <br>\n",
    "반복자는 반복형이 되어야 한다. 이떄 반복자의 \\_\\_iter\\_\\_() 는 self 를 반환해야 한다. "
   ]
  },
  {
   "cell_type": "markdown",
   "metadata": {},
   "source": [
    "### Sentence Take #3: A Generator Function"
   ]
  },
  {
   "cell_type": "code",
   "execution_count": 4,
   "metadata": {},
   "outputs": [],
   "source": [
    "import re\n",
    "import reprlib\n",
    "RE_WORD = re.compile('\\w+')\n",
    "\n",
    "class Sentence:\n",
    "    def __init__(self, text):\n",
    "        self.text = text\n",
    "        self.words = RE_WORD.findall(text)\n",
    "    \n",
    "    def __repr__(self):\n",
    "        return 'Sentence(%s)' % reprlib.repr(self.text)\n",
    "    \n",
    "    def __iter__(self):\n",
    "        for word in self.words:\n",
    "            yield word\n",
    "        return\n",
    "# done! 별도의 반복자 클래스가 필요 없다. "
   ]
  },
  {
   "cell_type": "markdown",
   "metadata": {},
   "source": [
    "제너레이터 함수는 함수 본체를 포함하는 제너레이터 객체를 생성한다. \n",
    "\n",
    "제너레이터는 값을 **생성** 한다. 함수는 값을 반환하지만 제너레이터 함수는 제너레이터 객체가 반환된다. "
   ]
  },
  {
   "cell_type": "markdown",
   "metadata": {},
   "source": [
    "### Sentence Take #4: A Lazy Implementation"
   ]
  },
  {
   "cell_type": "code",
   "execution_count": 5,
   "metadata": {},
   "outputs": [],
   "source": [
    "import re\n",
    "import reprlib\n",
    "RE_WORD = re.compile('\\w+')\n",
    "\n",
    "class Sentence:\n",
    "    def __init__(self, text):\n",
    "        self.text = text\n",
    "    \n",
    "    def __repr__(self):\n",
    "        return 'Sentence(%s)' % reprlib.repr(self.text)\n",
    "    \n",
    "    def __iter__(self):\n",
    "        for match in RE_WORD.finditer(self.text):\n",
    "            yield match.group()"
   ]
  },
  {
   "cell_type": "markdown",
   "metadata": {},
   "source": [
    "Iterator 인터페이스는 느긋하게 처리하도록 설계되어 있다. next(my_iterator) 는 한번에 한 항목만 생성한다. \n",
    "\n",
    "**lazy evaluation** and **eager evaluation** are actual technical terms in programming language theory.\n",
    "\n",
    "re.finditer() 함수는 re.findall() 의 느긋한 버전으로, 리스트 대신 필요에 따라 re.MatchObject 객체를 생성하는 제너레이터를 반환한다. 매칭되는 항목이 많으면 re.finditer() 가 메모리를 많이 절약해준다. "
   ]
  },
  {
   "cell_type": "markdown",
   "metadata": {},
   "source": [
    "### Sentence Take #5: A Generator Expression"
   ]
  },
  {
   "cell_type": "code",
   "execution_count": 6,
   "metadata": {},
   "outputs": [],
   "source": [
    "import re\n",
    "import reprlib\n",
    "RE_WORD = re.compile('\\w+')\n",
    "\n",
    "class Sentence:\n",
    "    def __init__(self, text):\n",
    "        self.text = text\n",
    "    \n",
    "    def __repr__(self):\n",
    "        return 'Sentence(%s)' % reprlib.repr(self.text)\n",
    "    \n",
    "    def __iter__(self): #제너레이터 표현식 사용\n",
    "        return (match.group() for match in RE_WORD.finditer(self.text)) "
   ]
  },
  {
   "cell_type": "markdown",
   "metadata": {},
   "source": [
    "### Another Example: Arithmetic Progression Generator"
   ]
  },
  {
   "cell_type": "code",
   "execution_count": 7,
   "metadata": {},
   "outputs": [],
   "source": [
    "class ArithmeticProgression:\n",
    "    \n",
    "    def __init__(self, begin, step, end=None):\n",
    "        self.begin = begin\n",
    "        self.step = step\n",
    "        self.end = end # None -> \"infinite\" series\n",
    "\n",
    "    def __iter__(self):\n",
    "        result = type(self.begin + self.step)(self.begin)\n",
    "        # 가독성 높이기 위해 self.end 가 None 이면 forever 을 True 로 설정 (무한등차수열)\n",
    "        forever = self.end is None  \n",
    "        index = 0\n",
    "        while forever or result < self.end:\n",
    "            yield result\n",
    "            index += 1\n",
    "            result = self.begin + self.step * index"
   ]
  },
  {
   "cell_type": "code",
   "execution_count": 8,
   "metadata": {},
   "outputs": [
    {
     "data": {
      "text/plain": [
       "[0, 1, 2]"
      ]
     },
     "execution_count": 8,
     "metadata": {},
     "output_type": "execute_result"
    }
   ],
   "source": [
    "ap = ArithmeticProgression(0, 1, 3)\n",
    "list(ap)"
   ]
  },
  {
   "cell_type": "code",
   "execution_count": 11,
   "metadata": {},
   "outputs": [
    {
     "data": {
      "text/plain": [
       "[Fraction(0, 1), Fraction(1, 3), Fraction(2, 3)]"
      ]
     },
     "execution_count": 11,
     "metadata": {},
     "output_type": "execute_result"
    }
   ],
   "source": [
    "from fractions import Fraction\n",
    "ap = ArithmeticProgression(0, Fraction(1, 3), 1)\n",
    "list(ap)"
   ]
  },
  {
   "cell_type": "code",
   "execution_count": 10,
   "metadata": {},
   "outputs": [
    {
     "data": {
      "text/plain": [
       "[Decimal('0'), Decimal('0.1'), Decimal('0.2')]"
      ]
     },
     "execution_count": 10,
     "metadata": {},
     "output_type": "execute_result"
    }
   ],
   "source": [
    "from decimal import Decimal\n",
    "ap = ArithmeticProgression(0, Decimal('.1'), .3)\n",
    "list(ap)"
   ]
  },
  {
   "cell_type": "markdown",
   "metadata": {},
   "source": [
    "### Arithmetic Progression with itertools\n",
    "\n",
    "The itertools module in Python 3.4 has 19 generator functions that can be combined in a variety of interesting ways.\n",
    "\n",
    "itertools.count() : 숫자를 생성하는 제너레이터를 반환, 끝이 없다. list(count()) 를 실행하면, 메모리보다 큰 리스트를 만들려고 시도하다 실패한다. \n",
    "\n",
    "itertools.takewhile() : 다른 제너레이터를 소비하면서 predicate (주어진 조건식) 이 False 가 되면 중단되는 제너레이터를 생성한다. "
   ]
  },
  {
   "cell_type": "code",
   "execution_count": 14,
   "metadata": {},
   "outputs": [
    {
     "data": {
      "text/plain": [
       "[1, 1.5, 2.0, 2.5]"
      ]
     },
     "execution_count": 14,
     "metadata": {},
     "output_type": "execute_result"
    }
   ],
   "source": [
    "import itertools\n",
    "gen = itertools.takewhile(lambda n: n < 3, itertools.count(1, .5))\n",
    "list(gen)"
   ]
  },
  {
   "cell_type": "markdown",
   "metadata": {},
   "source": [
    "### Generator Functions in the Standard Library"
   ]
  },
  {
   "cell_type": "markdown",
   "metadata": {},
   "source": [
    "#### <필터링 제너레이터함수>\n",
    "\n",
    "**itertools.ompress(it, selector_it)** : Consumes two iterables in parallel; yields items from it whenever the corresponding item in selector_it is truthy\n",
    "\n",
    "**itertools.dropwhile(predicate, it)** : Consumes it skipping items while predicate computes truthy, then yields very remaining item (no further checks are made)\n",
    "\n",
    "**filter(predicate,it)** : Applies predicate to each item of iterable, yielding the item if predi\n",
    "cate(item) is truthy; if predicate is None, only truthy items are yielded\n",
    "\n",
    "**itertools.filterfalse(predicate, it)** : Same as filter, with the predicate logic negated: yields items whenever predicate computes falsy\n",
    "\n",
    "**itertools.islice(it, stop) or islice(it,start, stop,step=1)** : Yields items from a slice of it, similar to s[:stop] or s[start:stop:step] except it can be any iterable, and the operation is lazy\n",
    "\n",
    "**itertools.takewhile(predicate, it)** : Yields items while predicate computes truthy, then stops and no further checks are made"
   ]
  },
  {
   "cell_type": "code",
   "execution_count": 15,
   "metadata": {},
   "outputs": [
    {
     "data": {
      "text/plain": [
       "['A', 'a', 'a']"
      ]
     },
     "execution_count": 15,
     "metadata": {},
     "output_type": "execute_result"
    },
    {
     "data": {
      "text/plain": [
       "['r', 'd', 'v', 'r', 'k']"
      ]
     },
     "execution_count": 15,
     "metadata": {},
     "output_type": "execute_result"
    },
    {
     "data": {
      "text/plain": [
       "['r', 'd', 'v', 'a', 'r', 'k']"
      ]
     },
     "execution_count": 15,
     "metadata": {},
     "output_type": "execute_result"
    },
    {
     "data": {
      "text/plain": [
       "['A', 'a']"
      ]
     },
     "execution_count": 15,
     "metadata": {},
     "output_type": "execute_result"
    },
    {
     "data": {
      "text/plain": [
       "['A', 'r', 'd', 'a']"
      ]
     },
     "execution_count": 15,
     "metadata": {},
     "output_type": "execute_result"
    },
    {
     "data": {
      "text/plain": [
       "['A', 'a', 'r', 'd']"
      ]
     },
     "execution_count": 15,
     "metadata": {},
     "output_type": "execute_result"
    },
    {
     "data": {
      "text/plain": [
       "['v', 'a', 'r']"
      ]
     },
     "execution_count": 15,
     "metadata": {},
     "output_type": "execute_result"
    },
    {
     "data": {
      "text/plain": [
       "['a', 'd', 'a']"
      ]
     },
     "execution_count": 15,
     "metadata": {},
     "output_type": "execute_result"
    }
   ],
   "source": [
    "def vowel(c):\n",
    "    return c.lower() in 'aeiou'\n",
    "\n",
    "list(filter(vowel, 'Aardvark'))\n",
    "\n",
    "import itertools\n",
    "list(itertools.filterfalse(vowel, 'Aardvark'))\n",
    "\n",
    "list(itertools.dropwhile(vowel, 'Aardvark'))\n",
    "\n",
    "list(itertools.takewhile(vowel, 'Aardvark'))\n",
    "\n",
    "list(itertools.compress('Aardvark', (1,0,1,1,0,1)))\n",
    "\n",
    "list(itertools.islice('Aardvark', 4))\n",
    "\n",
    "list(itertools.islice('Aardvark', 4, 7))\n",
    "\n",
    "list(itertools.islice('Aardvark', 1, 7, 2))"
   ]
  },
  {
   "cell_type": "markdown",
   "metadata": {},
   "source": [
    "#### < Mapping generator functions >\n",
    "\n",
    "**itertools.accumulate(it, [func])** : Yields accumulated sums; if func is provided, yields the result of applying it to the first pair of items, then to the first result and next item, etc.\n",
    "\n",
    "**enumerate(iterable, start=0)** : Yields 2-tuples of the form (index, item), where index is counted from\n",
    "start, and item is taken from the iterable\n",
    "\n",
    "**map(func, it1,[it2, …, itN])** : Applies func to each item of it, yielding the result; if N iterables are given, func must take N arguments and the iterables will be consumed in parallel\n",
    "\n",
    "**itertools.starmap(func, it)** Applies func to each item of it, yielding the result; the input iterable should yield iterable items iit, and func is applied as func(*iit)"
   ]
  },
  {
   "cell_type": "code",
   "execution_count": 16,
   "metadata": {},
   "outputs": [
    {
     "data": {
      "text/plain": [
       "[5, 9, 11, 19, 26, 32, 35, 35, 44, 45]"
      ]
     },
     "execution_count": 16,
     "metadata": {},
     "output_type": "execute_result"
    },
    {
     "data": {
      "text/plain": [
       "[5, 4, 2, 2, 2, 2, 2, 0, 0, 0]"
      ]
     },
     "execution_count": 16,
     "metadata": {},
     "output_type": "execute_result"
    },
    {
     "data": {
      "text/plain": [
       "[5, 5, 5, 8, 8, 8, 8, 8, 9, 9]"
      ]
     },
     "execution_count": 16,
     "metadata": {},
     "output_type": "execute_result"
    },
    {
     "data": {
      "text/plain": [
       "[5, 20, 40, 320, 2240, 13440, 40320, 0, 0, 0]"
      ]
     },
     "execution_count": 16,
     "metadata": {},
     "output_type": "execute_result"
    },
    {
     "data": {
      "text/plain": [
       "[1, 2, 6, 24, 120, 720, 5040, 40320, 362880, 3628800]"
      ]
     },
     "execution_count": 16,
     "metadata": {},
     "output_type": "execute_result"
    }
   ],
   "source": [
    "sample = [5, 4, 2, 8, 7, 6, 3, 0, 9, 1]\n",
    "\n",
    "import itertools\n",
    "list(itertools.accumulate(sample)) #\n",
    "\n",
    "list(itertools.accumulate(sample, min)) #\n",
    "\n",
    "list(itertools.accumulate(sample, max)) #\n",
    "\n",
    "import operator\n",
    "list(itertools.accumulate(sample, operator.mul)) #\n",
    "\n",
    "list(itertools.accumulate(range(1, 11), operator.mul))\n"
   ]
  },
  {
   "cell_type": "code",
   "execution_count": 19,
   "metadata": {},
   "outputs": [
    {
     "data": {
      "text/plain": [
       "[(1, 'a'),\n",
       " (2, 'l'),\n",
       " (3, 'b'),\n",
       " (4, 'a'),\n",
       " (5, 't'),\n",
       " (6, 'r'),\n",
       " (7, 'o'),\n",
       " (8, 'z')]"
      ]
     },
     "execution_count": 19,
     "metadata": {},
     "output_type": "execute_result"
    },
    {
     "data": {
      "text/plain": [
       "[0, 1, 4, 9, 16, 25, 36, 49, 64, 81, 100]"
      ]
     },
     "execution_count": 19,
     "metadata": {},
     "output_type": "execute_result"
    },
    {
     "data": {
      "text/plain": [
       "[0, 4, 16]"
      ]
     },
     "execution_count": 19,
     "metadata": {},
     "output_type": "execute_result"
    },
    {
     "data": {
      "text/plain": [
       "[(0, 2), (1, 4), (2, 8)]"
      ]
     },
     "execution_count": 19,
     "metadata": {},
     "output_type": "execute_result"
    },
    {
     "data": {
      "text/plain": [
       "['a', 'll', 'bbb', 'aaaa', 'ttttt', 'rrrrrr', 'ooooooo', 'zzzzzzzz']"
      ]
     },
     "execution_count": 19,
     "metadata": {},
     "output_type": "execute_result"
    },
    {
     "data": {
      "text/plain": [
       "[5.0,\n",
       " 4.5,\n",
       " 3.6666666666666665,\n",
       " 4.75,\n",
       " 5.2,\n",
       " 5.333333333333333,\n",
       " 5.0,\n",
       " 4.375,\n",
       " 4.888888888888889,\n",
       " 4.5]"
      ]
     },
     "execution_count": 19,
     "metadata": {},
     "output_type": "execute_result"
    }
   ],
   "source": [
    "list(enumerate('albatroz', 1)) #\n",
    "\n",
    "import operator\n",
    "list(map(operator.mul, range(11), range(11))) #\n",
    "\n",
    "list(map(operator.mul, range(11), [2, 4, 8])) #\n",
    "\n",
    "list(map(lambda a, b: (a, b), range(11), [2, 4, 8])) #\n",
    "\n",
    "import itertools\n",
    "list(itertools.starmap(operator.mul, enumerate('albatroz', 1))) #\n",
    "\n",
    "sample = [5, 4, 2, 8, 7, 6, 3, 0, 9, 1]\n",
    "list(itertools.starmap(lambda a, b: b/a, enumerate(itertools.accumulate(sample), 1)))"
   ]
  },
  {
   "cell_type": "markdown",
   "metadata": {},
   "source": [
    "#### < Generator functions that merge multiple input iterables >\n",
    "\n",
    "**itertools.chain(it1, …, itN)** Yield all items from it1, then from it2 etc., seamlessly\n",
    "\n",
    "**itertools.chain.from_iterable(it)** Yield all items from each iterable produced by it, one after the other, seamlessly; it should yield iterable items, for example, a list of iterables\n",
    "\n",
    "**itertools product(it1, …, itN, repeat=1)** Cartesian product: yields N-tuples made by combining items from each input iterable like nested for loops could produce; repeat allows the input iterables to be consumed more than once\n",
    "\n",
    "**zip(it1, …, itN)** Yields N-tuples built from items taken from the iterables in parallel, silently\n",
    "stopping when the first iterable is exhausted \n",
    "\n",
    "**itertools zip_longest(it1, …,itN, fillvalue=None)** Yields N-tuples built from items taken from the iterables in parallel, stopping only when"
   ]
  },
  {
   "cell_type": "code",
   "execution_count": 20,
   "metadata": {},
   "outputs": [
    {
     "data": {
      "text/plain": [
       "['A', 'B', 'C', 0, 1]"
      ]
     },
     "execution_count": 20,
     "metadata": {},
     "output_type": "execute_result"
    },
    {
     "data": {
      "text/plain": [
       "[(0, 'A'), (1, 'B'), (2, 'C')]"
      ]
     },
     "execution_count": 20,
     "metadata": {},
     "output_type": "execute_result"
    },
    {
     "data": {
      "text/plain": [
       "[0, 'A', 1, 'B', 2, 'C']"
      ]
     },
     "execution_count": 20,
     "metadata": {},
     "output_type": "execute_result"
    },
    {
     "data": {
      "text/plain": [
       "[('A', 0), ('B', 1), ('C', 2)]"
      ]
     },
     "execution_count": 20,
     "metadata": {},
     "output_type": "execute_result"
    },
    {
     "data": {
      "text/plain": [
       "[('A', 0, 10), ('B', 1, 20), ('C', 2, 30)]"
      ]
     },
     "execution_count": 20,
     "metadata": {},
     "output_type": "execute_result"
    },
    {
     "data": {
      "text/plain": [
       "[('A', 0), ('B', 1), ('C', 2), (None, 3), (None, 4)]"
      ]
     },
     "execution_count": 20,
     "metadata": {},
     "output_type": "execute_result"
    },
    {
     "data": {
      "text/plain": [
       "[('A', 0), ('B', 1), ('C', 2), ('?', 3), ('?', 4)]"
      ]
     },
     "execution_count": 20,
     "metadata": {},
     "output_type": "execute_result"
    }
   ],
   "source": [
    "list(itertools.chain('ABC', range(2))) #\n",
    "\n",
    "list(itertools.chain(enumerate('ABC'))) #\n",
    "\n",
    "list(itertools.chain.from_iterable(enumerate('ABC'))) #\n",
    "\n",
    "list(zip('ABC', range(5))) #\n",
    "\n",
    "list(zip('ABC', range(5), [10, 20, 30, 40])) #\n",
    "\n",
    "list(itertools.zip_longest('ABC', range(5))) #\n",
    "\n",
    "list(itertools.zip_longest('ABC', range(5), fillvalue='?'))"
   ]
  },
  {
   "cell_type": "code",
   "execution_count": 22,
   "metadata": {},
   "outputs": [
    {
     "data": {
      "text/plain": [
       "[('A', 0), ('A', 1), ('B', 0), ('B', 1), ('C', 0), ('C', 1)]"
      ]
     },
     "execution_count": 22,
     "metadata": {},
     "output_type": "execute_result"
    },
    {
     "data": {
      "text/plain": [
       "[('A', 'spades'),\n",
       " ('A', 'hearts'),\n",
       " ('A', 'diamonds'),\n",
       " ('A', 'clubs'),\n",
       " ('K', 'spades'),\n",
       " ('K', 'hearts'),\n",
       " ('K', 'diamonds'),\n",
       " ('K', 'clubs')]"
      ]
     },
     "execution_count": 22,
     "metadata": {},
     "output_type": "execute_result"
    },
    {
     "data": {
      "text/plain": [
       "[('A',), ('B',), ('C',)]"
      ]
     },
     "execution_count": 22,
     "metadata": {},
     "output_type": "execute_result"
    },
    {
     "data": {
      "text/plain": [
       "[('A', 'A'),\n",
       " ('A', 'B'),\n",
       " ('A', 'C'),\n",
       " ('B', 'A'),\n",
       " ('B', 'B'),\n",
       " ('B', 'C'),\n",
       " ('C', 'A'),\n",
       " ('C', 'B'),\n",
       " ('C', 'C')]"
      ]
     },
     "execution_count": 22,
     "metadata": {},
     "output_type": "execute_result"
    },
    {
     "data": {
      "text/plain": [
       "[(0, 0, 0),\n",
       " (0, 0, 1),\n",
       " (0, 1, 0),\n",
       " (0, 1, 1),\n",
       " (1, 0, 0),\n",
       " (1, 0, 1),\n",
       " (1, 1, 0),\n",
       " (1, 1, 1)]"
      ]
     },
     "execution_count": 22,
     "metadata": {},
     "output_type": "execute_result"
    },
    {
     "name": "stdout",
     "output_type": "stream",
     "text": [
      "('A', 0, 'A', 0)\n",
      "('A', 0, 'A', 1)\n",
      "('A', 0, 'B', 0)\n",
      "('A', 0, 'B', 1)\n",
      "('A', 1, 'A', 0)\n",
      "('A', 1, 'A', 1)\n",
      "('A', 1, 'B', 0)\n",
      "('A', 1, 'B', 1)\n",
      "('B', 0, 'A', 0)\n",
      "('B', 0, 'A', 1)\n",
      "('B', 0, 'B', 0)\n",
      "('B', 0, 'B', 1)\n",
      "('B', 1, 'A', 0)\n",
      "('B', 1, 'A', 1)\n",
      "('B', 1, 'B', 0)\n",
      "('B', 1, 'B', 1)\n"
     ]
    }
   ],
   "source": [
    "list(itertools.product('ABC', range(2))) #\n",
    "\n",
    "suits = 'spades hearts diamonds clubs'.split()\n",
    "\n",
    "list(itertools.product('AK', suits)) #\n",
    "\n",
    "list(itertools.product('ABC')) #\n",
    "\n",
    "list(itertools.product('ABC', repeat=2)) #\n",
    "\n",
    "list(itertools.product(range(2), repeat=3))\n",
    "\n",
    "rows = itertools.product('AB', range(2), repeat=2)\n",
    "for row in rows: print(row)"
   ]
  },
  {
   "cell_type": "markdown",
   "metadata": {},
   "source": [
    "#### < Generator functions that expand each input item into multiple output items Module Function >\n",
    "\n",
    "**itertools.combinations(it, out_len)** Yield combinations of out_len items from the items yielded by it\n",
    "\n",
    "**itertools.combinations_with_replacement(it, out_len)** Yield combinations of out_len items from the items yielded by it, including combinations with repeated items\n",
    "\n",
    "**itertools.count(start=0, step=1)** Yields numbers starting at start, incremented by step, indefinitely\n",
    "\n",
    "**itertools.cycle(it)** Yields items from it storing a copy of each, then yields the entire\n",
    "sequence repeatedly, indefinitely\n",
    "\n",
    "**itertools.permutations(it,out_len=None)** Yield permutations of out_len items from the items yielded by it; by default, out_len is len(list(it))\n",
    "\n",
    "**itertools.repeat(item, [times])** Yield the given item repeadedly, indefinetly unless a number of times is given"
   ]
  },
  {
   "cell_type": "code",
   "execution_count": 23,
   "metadata": {},
   "outputs": [
    {
     "data": {
      "text/plain": [
       "0"
      ]
     },
     "execution_count": 23,
     "metadata": {},
     "output_type": "execute_result"
    },
    {
     "data": {
      "text/plain": [
       "(1, 2, 3)"
      ]
     },
     "execution_count": 23,
     "metadata": {},
     "output_type": "execute_result"
    },
    {
     "data": {
      "text/plain": [
       "[1, 1.3, 1.6]"
      ]
     },
     "execution_count": 23,
     "metadata": {},
     "output_type": "execute_result"
    },
    {
     "data": {
      "text/plain": [
       "'A'"
      ]
     },
     "execution_count": 23,
     "metadata": {},
     "output_type": "execute_result"
    },
    {
     "data": {
      "text/plain": [
       "['B', 'C', 'A', 'B', 'C', 'A', 'B']"
      ]
     },
     "execution_count": 23,
     "metadata": {},
     "output_type": "execute_result"
    },
    {
     "data": {
      "text/plain": [
       "(7, 7)"
      ]
     },
     "execution_count": 23,
     "metadata": {},
     "output_type": "execute_result"
    },
    {
     "data": {
      "text/plain": [
       "[8, 8, 8, 8]"
      ]
     },
     "execution_count": 23,
     "metadata": {},
     "output_type": "execute_result"
    },
    {
     "data": {
      "text/plain": [
       "[0, 5, 10, 15, 20, 25, 30, 35, 40, 45, 50]"
      ]
     },
     "execution_count": 23,
     "metadata": {},
     "output_type": "execute_result"
    }
   ],
   "source": [
    "ct = itertools.count() #\n",
    "next(ct) #\n",
    "\n",
    "next(ct), next(ct), next(ct) #\n",
    "\n",
    "list(itertools.islice(itertools.count(1, .3), 3)) #\n",
    "\n",
    "cy = itertools.cycle('ABC') #\n",
    "next(cy)\n",
    "\n",
    "list(itertools.islice(cy, 7)) #\n",
    "\n",
    "rp = itertools.repeat(7) #\n",
    "next(rp), next(rp)\n",
    "\n",
    "list(itertools.repeat(8, 4)) #\n",
    "\n",
    "list(map(operator.mul, range(11), itertools.repeat(5)))"
   ]
  },
  {
   "cell_type": "code",
   "execution_count": 24,
   "metadata": {},
   "outputs": [
    {
     "data": {
      "text/plain": [
       "[('A', 'B'), ('A', 'C'), ('B', 'C')]"
      ]
     },
     "execution_count": 24,
     "metadata": {},
     "output_type": "execute_result"
    },
    {
     "data": {
      "text/plain": [
       "[('A', 'A'), ('A', 'B'), ('A', 'C'), ('B', 'B'), ('B', 'C'), ('C', 'C')]"
      ]
     },
     "execution_count": 24,
     "metadata": {},
     "output_type": "execute_result"
    },
    {
     "data": {
      "text/plain": [
       "[('A', 'B'), ('A', 'C'), ('B', 'A'), ('B', 'C'), ('C', 'A'), ('C', 'B')]"
      ]
     },
     "execution_count": 24,
     "metadata": {},
     "output_type": "execute_result"
    },
    {
     "data": {
      "text/plain": [
       "[('A', 'A'),\n",
       " ('A', 'B'),\n",
       " ('A', 'C'),\n",
       " ('B', 'A'),\n",
       " ('B', 'B'),\n",
       " ('B', 'C'),\n",
       " ('C', 'A'),\n",
       " ('C', 'B'),\n",
       " ('C', 'C')]"
      ]
     },
     "execution_count": 24,
     "metadata": {},
     "output_type": "execute_result"
    }
   ],
   "source": [
    "list(itertools.combinations('ABC', 2)) #\n",
    "\n",
    "list(itertools.combinations_with_replacement('ABC', 2)) #\n",
    "\n",
    "list(itertools.permutations('ABC', 2)) #\n",
    "\n",
    "list(itertools.product('ABC', repeat=2))"
   ]
  },
  {
   "cell_type": "markdown",
   "metadata": {},
   "source": [
    "#### < Rearranging generator functions >\n",
    "\n",
    "**itertools groupby(it,key=None)** Yields 2-tuples of the form (key, group), where key is the grouping criterion and group is a generator yielding the items in the group\n",
    "\n",
    "**reversed(seq)** Yields items from seq in reverse order, from last to first; seq must be a sequence\n",
    "or implement the __reversed__ special method\n",
    "\n",
    "**itertools tee(it, n=2)** Yields a tuple of n generators, each yielding the items of the input iterable\n",
    "independently"
   ]
  },
  {
   "cell_type": "code",
   "execution_count": 25,
   "metadata": {},
   "outputs": [
    {
     "data": {
      "text/plain": [
       "[('L', <itertools._grouper at 0x7f8451401898>),\n",
       " ('A', <itertools._grouper at 0x7f8451401cf8>),\n",
       " ('G', <itertools._grouper at 0x7f84514019e8>)]"
      ]
     },
     "execution_count": 25,
     "metadata": {},
     "output_type": "execute_result"
    },
    {
     "name": "stdout",
     "output_type": "stream",
     "text": [
      "L -> ['L', 'L', 'L', 'L']\n",
      "A -> ['A', 'A', 'A']\n",
      "G -> ['G', 'G']\n"
     ]
    },
    {
     "data": {
      "text/plain": [
       "['rat', 'bat', 'duck', 'bear', 'lion', 'eagle', 'shark', 'giraffe', 'dolphin']"
      ]
     },
     "execution_count": 25,
     "metadata": {},
     "output_type": "execute_result"
    },
    {
     "name": "stdout",
     "output_type": "stream",
     "text": [
      "3 -> ['rat', 'bat']\n",
      "4 -> ['duck', 'bear', 'lion']\n",
      "5 -> ['eagle', 'shark']\n",
      "7 -> ['giraffe', 'dolphin']\n",
      "7 -> ['dolphin', 'giraffe']\n",
      "5 -> ['shark', 'eagle']\n",
      "4 -> ['lion', 'bear', 'duck']\n",
      "3 -> ['bat', 'rat']\n"
     ]
    }
   ],
   "source": [
    "list(itertools.groupby('LLLLAAGGG'))\n",
    "\n",
    "for char, group in itertools.groupby('LLLLAAAGG'): #\n",
    "    print(char, '->', list(group))\n",
    "    \n",
    "animals = ['duck', 'eagle', 'rat', 'giraffe', 'bear', 'bat', 'dolphin', 'shark', 'lion']\n",
    "\n",
    "animals.sort(key=len)\n",
    "animals\n",
    "\n",
    "for length, group in itertools.groupby(animals, len): #\n",
    "    print(length, '->', list(group))\n",
    "    \n",
    "for length, group in itertools.groupby(reversed(animals), len): #\n",
    "    print(length, '->', list(group))"
   ]
  },
  {
   "cell_type": "code",
   "execution_count": 26,
   "metadata": {},
   "outputs": [
    {
     "data": {
      "text/plain": [
       "[<itertools._tee at 0x7f8451450c48>, <itertools._tee at 0x7f8451450bc8>]"
      ]
     },
     "execution_count": 26,
     "metadata": {},
     "output_type": "execute_result"
    },
    {
     "data": {
      "text/plain": [
       "'A'"
      ]
     },
     "execution_count": 26,
     "metadata": {},
     "output_type": "execute_result"
    },
    {
     "data": {
      "text/plain": [
       "'A'"
      ]
     },
     "execution_count": 26,
     "metadata": {},
     "output_type": "execute_result"
    },
    {
     "data": {
      "text/plain": [
       "'B'"
      ]
     },
     "execution_count": 26,
     "metadata": {},
     "output_type": "execute_result"
    },
    {
     "data": {
      "text/plain": [
       "['B', 'C']"
      ]
     },
     "execution_count": 26,
     "metadata": {},
     "output_type": "execute_result"
    },
    {
     "data": {
      "text/plain": [
       "['C']"
      ]
     },
     "execution_count": 26,
     "metadata": {},
     "output_type": "execute_result"
    },
    {
     "data": {
      "text/plain": [
       "[('A', 'A'), ('B', 'B'), ('C', 'C')]"
      ]
     },
     "execution_count": 26,
     "metadata": {},
     "output_type": "execute_result"
    }
   ],
   "source": [
    "list(itertools.tee('ABC'))\n",
    "\n",
    "g1, g2 = itertools.tee('ABC')\n",
    "\n",
    "next(g1)\n",
    "\n",
    "next(g2)\n",
    "\n",
    "next(g2)\n",
    "\n",
    "list(g1)\n",
    "\n",
    "list(g2)\n",
    "\n",
    "list(zip(*itertools.tee('ABC')))"
   ]
  },
  {
   "cell_type": "markdown",
   "metadata": {},
   "source": [
    "### New Syntax in Python 3.3: yield from\n"
   ]
  },
  {
   "cell_type": "code",
   "execution_count": 27,
   "metadata": {},
   "outputs": [
    {
     "data": {
      "text/plain": [
       "['A', 'B', 'C', 0, 1, 2]"
      ]
     },
     "execution_count": 27,
     "metadata": {},
     "output_type": "execute_result"
    }
   ],
   "source": [
    "def chain(*iterables):\n",
    "    for it in iterables:\n",
    "        for i in it:\n",
    "            yield i\n",
    "            \n",
    "s = 'ABC'\n",
    "t = tuple(range(3))\n",
    "list(chain(s, t))"
   ]
  },
  {
   "cell_type": "code",
   "execution_count": 28,
   "metadata": {},
   "outputs": [
    {
     "data": {
      "text/plain": [
       "['A', 'B', 'C', 0, 1, 2]"
      ]
     },
     "execution_count": 28,
     "metadata": {},
     "output_type": "execute_result"
    }
   ],
   "source": [
    "def chain(*iterables):\n",
    "    for i in iterables:\n",
    "        yield from i\n",
    "\n",
    "list(chain(s, t))"
   ]
  },
  {
   "cell_type": "markdown",
   "metadata": {},
   "source": [
    "### Iterable Reducing Functions\n",
    "\n",
    "**all(it)** Returns True if all items in it are truthy, otherwise False; all([]) returns True\n",
    "\n",
    "**any(it)** Returns True if any item in it is truthy, otherwise False; any([]) returns False\n",
    "\n",
    "**max(it, [key=,] [default=])** Returns the maximum value of the items in it;a key is an ordering\n",
    "function, as in sorted; default is returned if the iterable is empty \n",
    "\n",
    "**min(it, [key=,] [default=])** Returns the minimum value of the items in it.b key is an ordering function, as in sorted; default is returned if the iterable is empty \n",
    "\n",
    "**functools reduce(func, it, [initial])** Returns the result of applying func to the first pair of items, then to that result and the third item and so on; if given, initial forms the initial pair with the first item\n",
    "\n",
    "**sum(it, start=0)** The sum of all items in it, with the optional start value"
   ]
  },
  {
   "cell_type": "code",
   "execution_count": 29,
   "metadata": {},
   "outputs": [
    {
     "data": {
      "text/plain": [
       "True"
      ]
     },
     "execution_count": 29,
     "metadata": {},
     "output_type": "execute_result"
    },
    {
     "data": {
      "text/plain": [
       "False"
      ]
     },
     "execution_count": 29,
     "metadata": {},
     "output_type": "execute_result"
    },
    {
     "data": {
      "text/plain": [
       "True"
      ]
     },
     "execution_count": 29,
     "metadata": {},
     "output_type": "execute_result"
    },
    {
     "data": {
      "text/plain": [
       "True"
      ]
     },
     "execution_count": 29,
     "metadata": {},
     "output_type": "execute_result"
    },
    {
     "data": {
      "text/plain": [
       "True"
      ]
     },
     "execution_count": 29,
     "metadata": {},
     "output_type": "execute_result"
    },
    {
     "data": {
      "text/plain": [
       "False"
      ]
     },
     "execution_count": 29,
     "metadata": {},
     "output_type": "execute_result"
    },
    {
     "data": {
      "text/plain": [
       "False"
      ]
     },
     "execution_count": 29,
     "metadata": {},
     "output_type": "execute_result"
    },
    {
     "data": {
      "text/plain": [
       "True"
      ]
     },
     "execution_count": 29,
     "metadata": {},
     "output_type": "execute_result"
    },
    {
     "data": {
      "text/plain": [
       "8"
      ]
     },
     "execution_count": 29,
     "metadata": {},
     "output_type": "execute_result"
    }
   ],
   "source": [
    "all([1, 2, 3])\n",
    "\n",
    "all([1, 0, 3])\n",
    "\n",
    "all([])\n",
    "\n",
    "any([1, 2, 3])\n",
    "\n",
    "any([1, 0, 3])\n",
    "\n",
    "any([0, 0.0])\n",
    "\n",
    "any([])\n",
    "\n",
    "g = (n for n in [0, 0.0, 7, 8])\n",
    "any(g)\n",
    "\n",
    "next(g)"
   ]
  },
  {
   "cell_type": "markdown",
   "metadata": {},
   "source": [
    "### A Closer Look at the iter Function\n",
    "\n",
    "첫번째 인수는 값을 생성하기 위해 인수 없이 반복 적으로 호출되는 콜러블이여야 하고\n",
    "\n",
    "두번째 인수는 구분 표시 sentinel로 콜러블에서 이 값이 반복되며 반복자가 StopIteration 예외를 발생시키도록 한다."
   ]
  },
  {
   "cell_type": "code",
   "execution_count": 4,
   "metadata": {},
   "outputs": [],
   "source": [
    "from random import randint \n",
    "\n",
    "def d6():\n",
    "    return randint(1, 6)"
   ]
  },
  {
   "cell_type": "code",
   "execution_count": 5,
   "metadata": {},
   "outputs": [
    {
     "data": {
      "text/plain": [
       "<callable_iterator at 0x7f24a3a0b780>"
      ]
     },
     "execution_count": 5,
     "metadata": {},
     "output_type": "execute_result"
    }
   ],
   "source": [
    "d6_iter = iter(d6, 1)\n",
    "d6_iter"
   ]
  },
  {
   "cell_type": "code",
   "execution_count": 6,
   "metadata": {},
   "outputs": [
    {
     "name": "stdout",
     "output_type": "stream",
     "text": [
      "4\n"
     ]
    }
   ],
   "source": [
    "for roll in d6_iter:\n",
    "    print(roll)"
   ]
  },
  {
   "cell_type": "markdown",
   "metadata": {},
   "source": [
    "```python\n",
    "with open('mydata.txt') as fp:\n",
    "    for line in iter(fp.readline, ''):\n",
    "        process_line(line)\n",
    "```"
   ]
  },
  {
   "cell_type": "code",
   "execution_count": null,
   "metadata": {},
   "outputs": [],
   "source": []
  }
 ],
 "metadata": {
  "kernelspec": {
   "display_name": "Python 3",
   "language": "python",
   "name": "python3"
  },
  "language_info": {
   "codemirror_mode": {
    "name": "ipython",
    "version": 3
   },
   "file_extension": ".py",
   "mimetype": "text/x-python",
   "name": "python",
   "nbconvert_exporter": "python",
   "pygments_lexer": "ipython3",
   "version": "3.6.8"
  }
 },
 "nbformat": 4,
 "nbformat_minor": 2
}
