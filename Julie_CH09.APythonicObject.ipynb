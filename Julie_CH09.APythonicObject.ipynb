{
 "cells": [
  {
   "cell_type": "markdown",
   "metadata": {},
   "source": [
    "# Fluent Python\n",
    "https://github.com/fluentpython/example-code\n",
    "\n",
    "파이썬 용어집 \n",
    "\n",
    "https://docs.python.org/ko/3/glossary.html"
   ]
  },
  {
   "cell_type": "code",
   "execution_count": 1,
   "metadata": {},
   "outputs": [],
   "source": [
    "from IPython.core.interactiveshell import InteractiveShell\n",
    "InteractiveShell.ast_node_interactivity = \"all\"\n",
    "\n",
    "import pandas as pd\n",
    "import numpy as np\n",
    "\n",
    "def time_check(func):\n",
    "    def decorated():\n",
    "        import time\n",
    "        start = time.time()\n",
    "        func()\n",
    "        print(\"---{}s seconds---\".format(time.time()-start_time))\n",
    "    return decorated# Fluent Python"
   ]
  },
  {
   "cell_type": "markdown",
   "metadata": {},
   "source": [
    "## CHAPTER 9 A Pythonic Object\n",
    "\n",
    "### Object Representations\n",
    "- repr(): Return a string representing the object as the developer wants to see it.\n",
    "- str(): Return a string representing the object as the user wants to see it.\n",
    "- bytes(): to get the object represented as a byte sequence.\n",
    "- format(): to get string displays of objects using special formatting codes.\n",
    "\n",
    "### classmethod Versus staticmethod\n"
   ]
  },
  {
   "cell_type": "code",
   "execution_count": 2,
   "metadata": {},
   "outputs": [],
   "source": [
    "class Demo:\n",
    "    @classmethod\n",
    "    def klassmeth(*args):\n",
    "        return args \n",
    "    \n",
    "    @staticmethod\n",
    "    def statmeth(*args):\n",
    "        return args "
   ]
  },
  {
   "cell_type": "code",
   "execution_count": 3,
   "metadata": {},
   "outputs": [
    {
     "data": {
      "text/plain": [
       "(__main__.Demo,)"
      ]
     },
     "execution_count": 3,
     "metadata": {},
     "output_type": "execute_result"
    }
   ],
   "source": [
    "Demo.klassmeth() # Demo 인수를 가지고 있다."
   ]
  },
  {
   "cell_type": "code",
   "execution_count": 4,
   "metadata": {},
   "outputs": [
    {
     "data": {
      "text/plain": [
       "(__main__.Demo, 'spam')"
      ]
     },
     "execution_count": 4,
     "metadata": {},
     "output_type": "execute_result"
    }
   ],
   "source": [
    "Demo.klassmeth('spam')"
   ]
  },
  {
   "cell_type": "code",
   "execution_count": 5,
   "metadata": {},
   "outputs": [
    {
     "data": {
      "text/plain": [
       "()"
      ]
     },
     "execution_count": 5,
     "metadata": {},
     "output_type": "execute_result"
    }
   ],
   "source": [
    "Demo.statmeth() "
   ]
  },
  {
   "cell_type": "code",
   "execution_count": 6,
   "metadata": {},
   "outputs": [
    {
     "data": {
      "text/plain": [
       "('spam',)"
      ]
     },
     "execution_count": 6,
     "metadata": {},
     "output_type": "execute_result"
    }
   ],
   "source": [
    "Demo.statmeth('spam')"
   ]
  },
  {
   "cell_type": "markdown",
   "metadata": {},
   "source": [
    "클래스와 함께 작동하지 않는 함수를 정의하려면 \n",
    "함수 모듈에 정의 하면 되는데 왜 staticmethod 를 사용할까. (이견이 있음)\n",
    "https://julien.danjou.info/guide-python-static-class-abstract-methods/"
   ]
  },
  {
   "cell_type": "markdown",
   "metadata": {},
   "source": [
    "### Formatted Displays \n",
    "\n",
    "str.format(): \\__format__(format_spec)\n",
    "- format(my_obj, format_spec) 의 두번째 인수 \n",
    "- str.format() 에 사용된 포맷 문자열 안에 {} 로 구분한 대체 필드 안에서 콜론 뒤의 문자열 "
   ]
  },
  {
   "cell_type": "markdown",
   "metadata": {},
   "source": [
    "Format Specification Mini-Language\n",
    "\n",
    "https://docs.python.org/3/library/string.html#formatspec"
   ]
  },
  {
   "cell_type": "code",
   "execution_count": 8,
   "metadata": {},
   "outputs": [
    {
     "data": {
      "text/plain": [
       "0.4115226337448559"
      ]
     },
     "execution_count": 8,
     "metadata": {},
     "output_type": "execute_result"
    }
   ],
   "source": [
    "brl = 1/2.43 \n",
    "brl"
   ]
  },
  {
   "cell_type": "code",
   "execution_count": 9,
   "metadata": {},
   "outputs": [
    {
     "data": {
      "text/plain": [
       "'0.4115'"
      ]
     },
     "execution_count": 9,
     "metadata": {},
     "output_type": "execute_result"
    }
   ],
   "source": [
    "format(brl, '0.4f') "
   ]
  },
  {
   "cell_type": "code",
   "execution_count": 10,
   "metadata": {},
   "outputs": [
    {
     "data": {
      "text/plain": [
       "'1 BRL = 0.41 USD'"
      ]
     },
     "execution_count": 10,
     "metadata": {},
     "output_type": "execute_result"
    }
   ],
   "source": [
    "'1 BRL = {rate:0.2f} USD'.format(rate=brl)"
   ]
  },
  {
   "cell_type": "code",
   "execution_count": 12,
   "metadata": {},
   "outputs": [
    {
     "data": {
      "text/plain": [
       "'66.7%'"
      ]
     },
     "execution_count": 12,
     "metadata": {},
     "output_type": "execute_result"
    }
   ],
   "source": [
    "format(2/3, '.1%') # 백분율"
   ]
  },
  {
   "cell_type": "markdown",
   "metadata": {},
   "source": [
    "### Private and “Protected” Attributes in Python"
   ]
  },
  {
   "cell_type": "markdown",
   "metadata": {},
   "source": [
    "* private attribute: \\__mood: two leading underscores and zero or at most on trailing underscore\n",
    "\n",
    "* Python stores the name in the instance __dict__ prefixed with a leading underscore and the class name, so in the \n",
    "> Dog class, \\__mood -> _Dog__mood\n",
    "\n",
    "this is **name mangling**"
   ]
  },
  {
   "cell_type": "markdown",
   "metadata": {},
   "source": [
    "### Saving Space with the __slots__ Class Attribute \n",
    "\n",
    "By default, Python stores instance attributes in a per-instance dict named \\__dict__. \n",
    "\n",
    "If you are dealing with millions of instances with few attributes, the \\__slots__ class attribute can save a lot of memory, by letting the interpreter store **the instance attributes** in **a tuple** instead of a dict.\n",
    "\n"
   ]
  },
  {
   "cell_type": "markdown",
   "metadata": {},
   "source": [
    "The Problems with **\\__slots__**\n",
    "\n",
    "To summarize, **\\__slots__** may provide significant memory savings if properly used,\n",
    "but there are a few caveats:\n",
    "\n",
    "- You must remember to redeclare **\\__slots__** in each subclass, because the inherited\n",
    "attribute is ignored by the interpreter.\n",
    "- Instances will only be able to have the attributes listed in **\\__slots__**, unless you include '**\\__dict__**' in **\\__slots__** (but doing so may negate the memory savings).\n",
    "- Instances cannot be targets of weak references unless you remember to include '**\\__weakref__**' in **\\__slots__**."
   ]
  },
  {
   "cell_type": "markdown",
   "metadata": {},
   "source": [
    "### Overriding Class Attributes\n",
    "\n",
    "class attributes can be used as default values for instance attributes. "
   ]
  },
  {
   "cell_type": "code",
   "execution_count": 2,
   "metadata": {},
   "outputs": [
    {
     "data": {
      "text/plain": [
       "'d'"
      ]
     },
     "execution_count": 2,
     "metadata": {},
     "output_type": "execute_result"
    }
   ],
   "source": [
    "class Vector2d:\n",
    "    typecode = 'd'\n",
    "\n",
    "v1 = Vector2d()\n",
    "v1.typecode"
   ]
  },
  {
   "cell_type": "code",
   "execution_count": 4,
   "metadata": {},
   "outputs": [
    {
     "data": {
      "text/plain": [
       "'f'"
      ]
     },
     "execution_count": 4,
     "metadata": {},
     "output_type": "execute_result"
    }
   ],
   "source": [
    "v1.typecode = 'f'\n",
    "v1.typecode"
   ]
  },
  {
   "cell_type": "code",
   "execution_count": 5,
   "metadata": {},
   "outputs": [
    {
     "data": {
      "text/plain": [
       "'d'"
      ]
     },
     "execution_count": 5,
     "metadata": {},
     "output_type": "execute_result"
    }
   ],
   "source": [
    "Vector2d.typecode"
   ]
  },
  {
   "cell_type": "markdown",
   "metadata": {},
   "source": [
    "클래스의 속성을 변경하려면 클래스 정의에서 직접 바꿔야 한다. "
   ]
  },
  {
   "cell_type": "code",
   "execution_count": 6,
   "metadata": {},
   "outputs": [
    {
     "data": {
      "text/plain": [
       "'f'"
      ]
     },
     "execution_count": 6,
     "metadata": {},
     "output_type": "execute_result"
    }
   ],
   "source": [
    "Vector2d.typecode = 'f'\n",
    "Vector2d.typecode"
   ]
  },
  {
   "cell_type": "code",
   "execution_count": 8,
   "metadata": {},
   "outputs": [
    {
     "data": {
      "text/plain": [
       "'f'"
      ]
     },
     "execution_count": 8,
     "metadata": {},
     "output_type": "execute_result"
    }
   ],
   "source": [
    "v2 = Vector2d()\n",
    "v2.typecode"
   ]
  },
  {
   "cell_type": "markdown",
   "metadata": {},
   "source": [
    "class name 을 type(self).\\__name__ 으로 가져온다."
   ]
  },
  {
   "cell_type": "code",
   "execution_count": 15,
   "metadata": {},
   "outputs": [],
   "source": [
    "class Vector2d_1:\n",
    "    typecode = 'd'\n",
    "    \n",
    "    def __init__(self, x, y):\n",
    "        self.__x = float(x)\n",
    "        self.__y = float(y)\n",
    "\n",
    "    @property\n",
    "    def x(self):\n",
    "        return self.__x\n",
    "\n",
    "    @property\n",
    "    def y(self):\n",
    "        return self.__y\n",
    "\n",
    "    \n",
    "    def __iter__(self):\n",
    "        return (i for i in (self.x, self.y))\n",
    "\n",
    "    def __repr__(self):\n",
    "        class_name = type(self).__name__\n",
    "        return '{}({!r}, {!r})'.format(class_name, *self)\n"
   ]
  },
  {
   "cell_type": "code",
   "execution_count": 23,
   "metadata": {},
   "outputs": [
    {
     "data": {
      "text/plain": [
       "Vector2d_1(1.0, 2.0)"
      ]
     },
     "execution_count": 23,
     "metadata": {},
     "output_type": "execute_result"
    }
   ],
   "source": [
    "v3 = Vector2d_1(1,2)\n",
    "v3"
   ]
  },
  {
   "cell_type": "markdown",
   "metadata": {},
   "source": [
    "\n",
    "- All string/bytes representation methods: __repr__, __str__, __format__, and\n",
    "__bytes__.\n",
    "\n",
    "- Several methods for converting an object to a number: __abs__, __bool__,\n",
    "__hash__.\n",
    "\n",
    "- The __eq__ operator, to test bytes conversion and to enable hashing (along with\n",
    "__hash__).\n"
   ]
  },
  {
   "cell_type": "markdown",
   "metadata": {},
   "source": [
    "추천 도서 \n",
    ">“Data Model” chapter of The Python Language Reference\n",
    "\n",
    "Most of the methods we used in this chapter are documented in “3.3.1. Basic cus‐\n",
    "tomization”.\n",
    "\n",
    ">Python in a Nutshell, 2nd Edition, by Alex Martelli\n",
    "\n",
    "Excellent coverage of the data model, even if only Python 2.5 is covered (in the\n",
    "second edition). The fundamental concepts are all the same and most of the Data\n",
    "Model APIs haven’t changed at all since Python 2.2, when built-in types and userdefined classes became more compatible.\n",
    "\n",
    ">Python Cookbook, 3rd Edition, by David Beazley and Brian K. Jones\n",
    "\n",
    "Very modern coding practices demonstrated through recipes. Chapter 8, “Classes\n",
    "and Objects” in particular has several solutions related to discussions in this chapter.\n",
    "\n",
    ">Python Essential Reference, 4th Edition, by David Beazley\n",
    "\n",
    "Covers the data model in detail in the context of Python 2.6 and Python 3."
   ]
  },
  {
   "cell_type": "code",
   "execution_count": null,
   "metadata": {},
   "outputs": [],
   "source": []
  }
 ],
 "metadata": {
  "kernelspec": {
   "display_name": "Python 3",
   "language": "python",
   "name": "python3"
  },
  "language_info": {
   "codemirror_mode": {
    "name": "ipython",
    "version": 3
   },
   "file_extension": ".py",
   "mimetype": "text/x-python",
   "name": "python",
   "nbconvert_exporter": "python",
   "pygments_lexer": "ipython3",
   "version": "3.6.8"
  }
 },
 "nbformat": 4,
 "nbformat_minor": 2
}
