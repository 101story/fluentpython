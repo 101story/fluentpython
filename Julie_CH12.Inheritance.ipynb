{
 "cells": [
  {
   "cell_type": "markdown",
   "metadata": {},
   "source": [
    "# Fluent Python\n",
    "https://github.com/fluentpython/example-code\n",
    "\n",
    "파이썬 용어집 \n",
    "\n",
    "https://docs.python.org/ko/3/glossary.html"
   ]
  },
  {
   "cell_type": "code",
   "execution_count": 4,
   "metadata": {},
   "outputs": [],
   "source": [
    "from IPython.core.interactiveshell import InteractiveShell\n",
    "InteractiveShell.ast_node_interactivity = \"all\"\n",
    "\n",
    "import pandas as pd\n",
    "import numpy as np\n",
    "\n",
    "def time_check(func):\n",
    "    def decorated():\n",
    "        import time\n",
    "        start = time.time()\n",
    "        func()\n",
    "        print(\"---{}s seconds---\".format(time.time()-start_time))\n",
    "    return decorated# Fluent Python"
   ]
  },
  {
   "cell_type": "markdown",
   "metadata": {},
   "source": [
    "## CHAPTER 12 Inheritance: For Good or For Worse\n",
    "\n",
    "- The pitfalls of subclassing from built-in types\n",
    "- Multiple inheritance and the method resolution order"
   ]
  },
  {
   "cell_type": "markdown",
   "metadata": {},
   "source": [
    "### Subclassing Built-In Types Is Tricky\n",
    "\n"
   ]
  },
  {
   "cell_type": "code",
   "execution_count": 3,
   "metadata": {},
   "outputs": [],
   "source": [
    "class DoppelDict(dict):\n",
    "    def __setitem__(self, key, value): # 저장할때 값을 복제\n",
    "        super().__setitem__(key, [value] * 2)"
   ]
  },
  {
   "cell_type": "code",
   "execution_count": 4,
   "metadata": {},
   "outputs": [
    {
     "data": {
      "text/plain": [
       "{'one': 1}"
      ]
     },
     "execution_count": 4,
     "metadata": {},
     "output_type": "execute_result"
    }
   ],
   "source": [
    "dd = DoppelDict(one=1)\n",
    "dd"
   ]
  },
  {
   "cell_type": "code",
   "execution_count": 5,
   "metadata": {},
   "outputs": [
    {
     "data": {
      "text/plain": [
       "{'one': 1, 'two': [2, 2]}"
      ]
     },
     "execution_count": 5,
     "metadata": {},
     "output_type": "execute_result"
    }
   ],
   "source": [
    "dd['two'] = 2 \n",
    "dd"
   ]
  },
  {
   "cell_type": "code",
   "execution_count": 7,
   "metadata": {},
   "outputs": [
    {
     "data": {
      "text/plain": [
       "{'one': 1, 'two': [2, 2], 'three': 3}"
      ]
     },
     "execution_count": 7,
     "metadata": {},
     "output_type": "execute_result"
    }
   ],
   "source": [
    "dd.update(three=3) # __setitem__ 을 호출하지 않음으로 three 의 값은 복제 되지 않음\n",
    "dd"
   ]
  },
  {
   "cell_type": "markdown",
   "metadata": {},
   "source": [
    "내장 자료형은 '슈퍼클래스에서 구현된 메서드 안에서 호출하더라도 메서드 검색은 대상 객체(self)의 클래스에서 시작해야 한다' 는 객체지향 프로그래밍의 기본 규칙을 어기고 있다."
   ]
  },
  {
   "cell_type": "code",
   "execution_count": 1,
   "metadata": {},
   "outputs": [],
   "source": [
    "class AnswerDict(dict):\n",
    "    def __getitem__(self, key): #\n",
    "        return 42"
   ]
  },
  {
   "cell_type": "code",
   "execution_count": 2,
   "metadata": {},
   "outputs": [
    {
     "data": {
      "text/plain": [
       "42"
      ]
     },
     "execution_count": 2,
     "metadata": {},
     "output_type": "execute_result"
    }
   ],
   "source": [
    "ad = AnswerDict(a='foo')\n",
    "ad['a']"
   ]
  },
  {
   "cell_type": "code",
   "execution_count": 5,
   "metadata": {},
   "outputs": [
    {
     "data": {
      "text/plain": [
       "'foo'"
      ]
     },
     "execution_count": 5,
     "metadata": {},
     "output_type": "execute_result"
    },
    {
     "data": {
      "text/plain": [
       "{'a': 'foo'}"
      ]
     },
     "execution_count": 5,
     "metadata": {},
     "output_type": "execute_result"
    }
   ],
   "source": [
    "d = {}\n",
    "d.update(ad) # d 는 평범한 dict 객체며, 여기서는 ad 객체를 이용해서 갱신\n",
    "d['a'] # dict.update() 메서드는 오버라이드된 AnswerDict.__getitem__() 무시\n",
    "d"
   ]
  },
  {
   "cell_type": "markdown",
   "metadata": {},
   "source": [
    "C 언어로 구형된 내장 자료형의 메서드를 위험하면 위와 같은 2가지 문제 발생 <br>\n",
    "내장 자료형을 상속한 사용자 정의 클래스에 영향을 미침 <br>\n",
    "파이썬으로 구현된 클래스를 상속하면 문제가 발생하지 않음 <br>"
   ]
  },
  {
   "cell_type": "markdown",
   "metadata": {},
   "source": [
    "### Multiple Inheritance and Method Resolution Order\n"
   ]
  },
  {
   "cell_type": "code",
   "execution_count": 6,
   "metadata": {},
   "outputs": [],
   "source": [
    "class A:\n",
    "    def ping(self):\n",
    "        print('ping:', self)\n",
    "\n",
    "class B(A):\n",
    "    def pong(self):\n",
    "        print('pong:', self)\n",
    "\n",
    "class C(A):\n",
    "    def pong(self):\n",
    "        print('PONG:', self)\n",
    "\n",
    "class D(B, C):\n",
    "    def ping(self):\n",
    "        super().ping()\n",
    "        print('post-ping:', self)\n",
    "   \n",
    "    def pingpong(self):\n",
    "        self.ping()\n",
    "        super().ping()\n",
    "        self.pong()\n",
    "        super().pong()\n",
    "        C.pong(self)"
   ]
  },
  {
   "cell_type": "code",
   "execution_count": 8,
   "metadata": {},
   "outputs": [
    {
     "name": "stdout",
     "output_type": "stream",
     "text": [
      "PONG: <__main__.D object at 0x7f9ed10c64a8>\n"
     ]
    }
   ],
   "source": [
    "d = D()\n",
    "C.pong(d)"
   ]
  },
  {
   "cell_type": "markdown",
   "metadata": {},
   "source": [
    "객체를 인수로 전달해서 슈퍼클래스의 메서드를 직접 호출 \n",
    "파이썬이 상속 그래프를 조회할때는 특정한 순서를 따름 \n",
    "\n",
    "메서드 결정 순서 Method Resolution Order(MRO) "
   ]
  },
  {
   "cell_type": "code",
   "execution_count": 9,
   "metadata": {},
   "outputs": [
    {
     "data": {
      "text/plain": [
       "(__main__.D, __main__.B, __main__.C, __main__.A, object)"
      ]
     },
     "execution_count": 9,
     "metadata": {},
     "output_type": "execute_result"
    }
   ],
   "source": [
    "D.__mro__"
   ]
  },
  {
   "cell_type": "markdown",
   "metadata": {},
   "source": [
    "MRO 를 우회해서 슈퍼클래스 메서드 직접 호출 "
   ]
  },
  {
   "cell_type": "code",
   "execution_count": 10,
   "metadata": {},
   "outputs": [],
   "source": [
    "def ping(self):\n",
    "    A.ping(self) # instead of super().ping()\n",
    "    print('post-ping:', self)"
   ]
  },
  {
   "cell_type": "markdown",
   "metadata": {},
   "source": [
    "self 를 반드시 명식해야함"
   ]
  },
  {
   "cell_type": "markdown",
   "metadata": {},
   "source": [
    "MRO 는 상속 그래프를 고려할 뿐 아니라 서브클래스 정의에 나열된 슈퍼클래스들의 순서도 고려 class D(C, B) 로 선언했다면, D 클래스의 \\_\\_mro\\_\\_ 도 변경된다. "
   ]
  },
  {
   "cell_type": "markdown",
   "metadata": {},
   "source": [
    "### Multiple Inheritance in the Real World\n",
    "\n",
    "Mixin : 다중 상속을 통해 다른 클래스에 구상메서드를 제공하기 위해 설계된 클래스 "
   ]
  },
  {
   "cell_type": "markdown",
   "metadata": {},
   "source": [
    "### Coping with Multiple Inheritance\n",
    "\n",
    "1. Distinguish Interface Inheritance from Implementation Inheritance\n",
    "\n",
    "- Inheritance of interface creates a subtype, implying an “is-a” relationship.\n",
    "- Inheritance of implementation avoids code duplication by reuse.\n",
    "\n",
    "코드 재사용을 위한 상속은 구현에 관련된 것\n",
    "\n",
    "구성이나 위힘으로 대체 할 수도 있음\n",
    "\n",
    "인터페이스 상속은 프레임워크의 중추적인 역할 \n",
    "\n",
    "2. Make Interfaces Explicit with ABCs\n",
    "\n",
    "ABC 로 명시하기 위해 abc.ABC 나 다른 ABC 를 상속하는 것\n",
    "\n",
    "3. Use Mixins for Code Reuse\n",
    "\n",
    "서로 관련없는 여러 서브클래스에서 코드를 재사용하기 위해 명시적으로 mixin 클래스로 만들어 함. \n",
    "\n",
    "mixin 클래스는 새로운 자료형을 정의하지 않고, 단지 재 사용할 메서드들을 묶어 놓음\n",
    "\n",
    "mixin 클래스로 객체를 생성하면 안되며, mixin 상속하는 구상 클래스는 다른 클래스도 상속해야 함\n",
    "\n",
    "각각의 mixin 클래스는 밀접히 연관된 메서드 몇개를 구현해서 하나의 구체적인 행위를 제공 해야함\n",
    "\n",
    "4. Make Mixins Explicit by Naming\n",
    "\n",
    "5. An ABC May Also Be a Mixin; The Reverse Is Not True\n",
    "\n",
    "ABC 는 구상으로도 mixin 으로도 사용 가능 \n",
    "\n",
    "ABC 는 자료형을 정의하지만, mixin 은 정의하지 않음\n",
    "\n",
    "ABC 는 다른 클레스의 유일한 기본 클래스가 될 수 있지만, mixin 은 하나의 클래스로만 정의되선 안됨 \n",
    "\n",
    "ABC 에 구현된 구상 메서드는 해당 ABC나 슈퍼클래스의 메서드만 사용 가능 \n",
    "\n",
    "6. Don’t Subclass from More Than One Concrete Class\n",
    "\n",
    "구상 클래스의 슈퍼클래스중 하나를 제외한 나머지 클래스는 ABC 나 mixin 이어야 함\n",
    "\n",
    "7. Provide Aggregate Classes to Users\n",
    "\n",
    "Grady Booch calls this **an aggregate class**.\n",
    "\n",
    "```python\n",
    "class Widget(BaseWidget, Pack, Place, Grid):\n",
    "    \"\"\"Internal class.\n",
    "    \n",
    "    Base class for a widget which can be positioned with the\n",
    "    geometry managers Pack, Place or Grid.\"\"\"\n",
    "    pass\n",
    "```\n",
    "\n",
    "8. “Favor Object Composition Over Class Inheritance.”\n",
    "\n",
    "단일 상속의 경우에도 구성 방식은 융통성을 향상시킴. 상속은 클래스들을 강하게 결합시키며, 상속 트리의 높이가 높아지면 구조가 불안정해짐\n",
    "\n",
    "this principle enhances flexibility, because subclassing is a form of tight coupling, and tall inheritance trees tend to be brittle.\n",
    "\n",
    "다른 클래스에 서비스를 제공하기 위해 사용할 때는 구성과 위임이 mixin 을 대체 할 수 있지만 자료형의 계층 구조를 정의 할 때는 구성과 위임이 interface 상속을 대처 할 수 없음 "
   ]
  },
  {
   "cell_type": "code",
   "execution_count": null,
   "metadata": {},
   "outputs": [],
   "source": [
    "\n"
   ]
  }
 ],
 "metadata": {
  "kernelspec": {
   "display_name": "Python 3",
   "language": "python",
   "name": "python3"
  },
  "language_info": {
   "codemirror_mode": {
    "name": "ipython",
    "version": 3
   },
   "file_extension": ".py",
   "mimetype": "text/x-python",
   "name": "python",
   "nbconvert_exporter": "python",
   "pygments_lexer": "ipython3",
   "version": "3.6.8"
  }
 },
 "nbformat": 4,
 "nbformat_minor": 2
}
