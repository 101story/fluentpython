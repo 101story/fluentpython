{
 "cells": [
  {
   "cell_type": "markdown",
   "metadata": {},
   "source": [
    "# Fluent Python\n",
    "https://github.com/fluentpython/example-code\n",
    "\n",
    "파이썬 용어집 \n",
    "\n",
    "https://docs.python.org/ko/3/glossary.html"
   ]
  },
  {
   "cell_type": "code",
   "execution_count": 4,
   "metadata": {},
   "outputs": [],
   "source": [
    "from IPython.core.interactiveshell import InteractiveShell\n",
    "InteractiveShell.ast_node_interactivity = \"all\"\n",
    "\n",
    "import pandas as pd\n",
    "import numpy as np\n"
   ]
  },
  {
   "cell_type": "markdown",
   "metadata": {},
   "source": [
    "## CHAPTER 18. Concurrency with asyncio\n",
    "\n",
    "“concurrency” and “parallelism.”\n",
    "\n",
    "asyncio 패키지: 이벤트 루프에 의해서 운용되는 코루틴을 이용해 concurrency 를 구현\n",
    "\n",
    "python 3.4 에 추가됨"
   ]
  },
  {
   "cell_type": "markdown",
   "metadata": {},
   "source": [
    "### Thread Versus Coroutine: A Comparison\n",
    "\n",
    "파이썬에는 쓰레드를 종료시키는 API 가 정의되어 있지 않다. 스레드에 메시지를 보내서 종료시켜야한다. \n",
    "\n",
    "스레드 대신 @asyncio.coroutine 을 이용해 스레드 동작을 구현한다. \n"
   ]
  },
  {
   "cell_type": "code",
   "execution_count": 1,
   "metadata": {},
   "outputs": [
    {
     "ename": "NameError",
     "evalue": "name 'asyncio' is not defined",
     "output_type": "error",
     "traceback": [
      "\u001b[0;31m---------------------------------------------------------------------------\u001b[0m",
      "\u001b[0;31mNameError\u001b[0m                                 Traceback (most recent call last)",
      "\u001b[0;32m<ipython-input-1-199565a1248c>\u001b[0m in \u001b[0;36m<module>\u001b[0;34m\u001b[0m\n\u001b[1;32m      7\u001b[0m \u001b[0;31m#     go = True\u001b[0m\u001b[0;34m\u001b[0m\u001b[0;34m\u001b[0m\u001b[0;34m\u001b[0m\u001b[0m\n\u001b[1;32m      8\u001b[0m \u001b[0;34m\u001b[0m\u001b[0m\n\u001b[0;32m----> 9\u001b[0;31m \u001b[0;34m@\u001b[0m\u001b[0masyncio\u001b[0m\u001b[0;34m.\u001b[0m\u001b[0mcoroutine\u001b[0m\u001b[0;34m\u001b[0m\u001b[0;34m\u001b[0m\u001b[0m\n\u001b[0m\u001b[1;32m     10\u001b[0m \u001b[0;32mdef\u001b[0m \u001b[0mspin\u001b[0m\u001b[0;34m(\u001b[0m\u001b[0mmsg\u001b[0m\u001b[0;34m,\u001b[0m \u001b[0msignal\u001b[0m\u001b[0;34m)\u001b[0m\u001b[0;34m:\u001b[0m\u001b[0;34m\u001b[0m\u001b[0;34m\u001b[0m\u001b[0m\n\u001b[1;32m     11\u001b[0m     \u001b[0mwrite\u001b[0m\u001b[0;34m,\u001b[0m \u001b[0mflush\u001b[0m \u001b[0;34m=\u001b[0m \u001b[0msys\u001b[0m\u001b[0;34m.\u001b[0m\u001b[0mstdout\u001b[0m\u001b[0;34m.\u001b[0m\u001b[0mwrite\u001b[0m\u001b[0;34m,\u001b[0m \u001b[0msys\u001b[0m\u001b[0;34m.\u001b[0m\u001b[0mstdout\u001b[0m\u001b[0;34m.\u001b[0m\u001b[0mflush\u001b[0m\u001b[0;34m\u001b[0m\u001b[0;34m\u001b[0m\u001b[0m\n",
      "\u001b[0;31mNameError\u001b[0m: name 'asyncio' is not defined"
     ]
    }
   ],
   "source": [
    "import threading\n",
    "import itertools\n",
    "import time\n",
    "import sys\n",
    "\n",
    "# class Signal:\n",
    "#     go = True\n",
    "    \n",
    "@asyncio.coroutine\n",
    "def spin(msg, signal):\n",
    "    write, flush = sys.stdout.write, sys.stdout.flush\n",
    "    for char in itertools.cycle('|/-\\\\'):\n",
    "        status = char + ' ' + msg\n",
    "        write(status)\n",
    "        flush()\n",
    "        write('\\x08' * len(status))\n",
    "#         time.sleep(.1)\n",
    "#         if not signal.go:\n",
    "#             break\n",
    "        try:\n",
    "            yield from asyncio.sleep(.1)\n",
    "        except asyncio.CancelledError:\n",
    "            # 스핀이 깨어난후 예외가 발생\n",
    "            break\n",
    "    write(' ' * len(status) + '\\x08' * len(status))\n",
    "\n",
    "@asyncio.coroutine\n",
    "def slow_function():\n",
    "    # 코루틴이 잠자면서 입출력을 수행하는 체 하는 동안 \n",
    "    # 이벤트 루프가 진행될 수 있게 하기 위해 yield from 사용 \n",
    "#    pretend waiting a long time for I/O\n",
    "#    time.sleep(3)\n",
    "    # 메인 루프의 제어 흐름을 처리하는데 \n",
    "    # 메인 루프는 잠자고 난후에 코루틴을 계속 실행 \n",
    "    yield from asyncio.sleep(3)\n",
    "    return 42\n",
    "\n",
    "@asyncio.coroutine\n",
    "def supervisor():\n",
    "#     signal = Signal()\n",
    "#     spinner = threading.Thread(target=spin,\n",
    "#                     args=('thinking!', signal))\n",
    "#     print('spinner object:', spinner)\n",
    "#     spinner.start()\n",
    "#     result = slow_function()\n",
    "#     signal.go = False\n",
    "#     spinner.join()\n",
    "    # spin() 코루틴 실행을 스케쥴링하고 \n",
    "    # Task 객체 안에 넣어, task 객체를 즉시 반환\n",
    "    spinner = asyncio.async(spin('thinking!'))\n",
    "    # task 객체를 출력 \n",
    "    print('spinner object:', spinner)\n",
    "    # 함수를 실행해서 완료되면 값을 가져옴 \n",
    "    # 그러는 동안 이벤트 루프는 계속 실행됨 \n",
    "    # sleep(3) 을 실행 후 메인 루프로 제어권을 넘김 \n",
    "    result = yield from slow_function()\n",
    "    # task 취소, 코루틴이 중단된 고셍서 Cancelled 예외 발생 \n",
    "    # 코루틴은 예외르 ㄹ잡아서 지연시키거나 취소요청을 거부 할수 있음 \n",
    "    spinner.cancel()\n",
    "    return result\n",
    "\n",
    "def main():\n",
    "#     result = supervisor()\n",
    "    loop = asyncio.get_event_loop()\n",
    "    result = loop.run_until_complete(supervisor())\n",
    "    loop.close()\n",
    "    print('Answer:', result)\n"
   ]
  },
  {
   "cell_type": "markdown",
   "metadata": {},
   "source": [
    "@asyncio.coroutine 데코레이터\n",
    "- 필수는 아니지만 일반함수와 구분할 수 있도록 추가 해야한다. \n",
    "- 코루틴이 yield from 되지 않고 가지비 컬렉트되는 경우 경고 메시지를 출력해서 디버깅에 도움이 된다.\n",
    "- 데코레이트된 제너레이터를 자동으로 가동하지 않는다. \n",
    "\n",
    "\n",
    "supervisor() 함수 비교\n",
    "- Task 는 코루틴을 구동하고 Thread 는 콜러블을 호출한다. \n",
    "- Task 객체는 직접 생성하지 않고, 코루틴을 asyncio.async() 나 loop.create_task() 에 전달해서 가져온다. \n",
    "- Task 객체를 가져오면 이 객체는 이미 asyncio.asyn() 등에 의해 실행이 스케쥴링 되어 있다. Thread 객체는 start() 메서드를 호출해서 실행하라고 명력해야 한다. \n",
    "- 스레드화된 supervisor() 에서 slow_function() 은 평범한 함수로서, 스레드에 의해 직접 호출 된다. \n",
    "비동기 supervisor() 에서 slow_function() 은 yield from 으로 구동하는 코루틴이다. \n",
    "- 스레드는 외부에서 API 를 이용해서 중단시킬 수 없다. \n",
    "- loop.run_until_comlete() 로 코루틴을 실행해야 한다. \n",
    "\n",
    "코루틴의 경우, 기본적으로 인터럽트로부터 보호된다. yield 를 실행해 줘야 다른 부분이 실행된다. 여러 스레드의 연산을 동기화하기 위해 락을 잠그는대신, 실행되고 있는 코루틴 중 하나만 사용하면된다. \n",
    "\n",
    "제어권을 넘겨주고 싶을떈 yield 또는 yield from 을 이용해서 스케줄러에게 넘겨줄 수 있다. \n",
    "\n",
    "yield 지점에서 중단되었을 때만 취소 할 수 있다. CancelledError 예외를 처리해서 마무리 하면된다. \n",
    "\n"
   ]
  },
  {
   "cell_type": "markdown",
   "metadata": {},
   "source": [
    "### asyncio.Future: Nonblocking by Design\n",
    "\n",
    "BaseEventLoop.create_task(): 코루틴을 받아서 실행하기 위해 스케쥴링 하고, asyncio.Task 객체를 반환한다. \n",
    "\n",
    "Task : 코루틴을 래핑\n",
    "\n",
    "asyncio.Future 에서 result() 메서드는 인수를 받지 않는다. 시관초과를 지정할수 없다. \n",
    "\n",
    "아직 실행이 완료 되지 않은 Future 객체의 result() 메서드를 호출하면 asyncio.InvalidStateError 가 발생한다. \n",
    "\n",
    "asyncio.Futrue 결과를 가져오기 위해 yield from 을 이용한다. 이벤트 루프를 블로킹 하지 않고 작업 완료를 기다리는 과정을 자동으로 처리해준다. 제어권을 넘겨주기 위해 사용한다. \n",
    "\n",
    "add_done_callback() 콜백을 호출하지 않고 지연된 작업이 완료되면, 이벤트 루프는 Future 객체의 결과를 설정하고 yield from  표현식은 지연된 코루틴 내부에서 반환된 값을 생성하고 실행을 계속 진행한다. \n",
    "\n",
    "asyncio.Future is designed to work with yield from\n"
   ]
  },
  {
   "cell_type": "markdown",
   "metadata": {},
   "source": [
    "### Yielding from Futures, Tasks, and Coroutines\n",
    "\n",
    "Task 객체 가져오는 방법\n",
    "- asyncio.async(coro_or_future, *, loop=None)\n",
    "- BaseEventLoop.create_task(coro)\n"
   ]
  },
  {
   "cell_type": "code",
   "execution_count": 2,
   "metadata": {},
   "outputs": [],
   "source": [
    "import asyncio\n",
    "def run_sync(coro_or_future):\n",
    "    loop = asyncio.get_event_loop()\n",
    "    return loop.run_until_complete(coro_or_future)\n",
    "\n",
    "# a = run_sync(some_coroutine())"
   ]
  },
  {
   "cell_type": "markdown",
   "metadata": {},
   "source": [
    "### Downloading with asyncio and aiohttp\n"
   ]
  },
  {
   "cell_type": "code",
   "execution_count": 4,
   "metadata": {},
   "outputs": [
    {
     "ename": "ModuleNotFoundError",
     "evalue": "No module named 'flags'",
     "output_type": "error",
     "traceback": [
      "\u001b[0;31m---------------------------------------------------------------------------\u001b[0m",
      "\u001b[0;31mModuleNotFoundError\u001b[0m                       Traceback (most recent call last)",
      "\u001b[0;32m<ipython-input-4-cbec13c4173f>\u001b[0m in \u001b[0;36m<module>\u001b[0;34m\u001b[0m\n\u001b[1;32m      1\u001b[0m \u001b[0;32mimport\u001b[0m \u001b[0masyncio\u001b[0m\u001b[0;34m\u001b[0m\u001b[0;34m\u001b[0m\u001b[0m\n\u001b[1;32m      2\u001b[0m \u001b[0;32mimport\u001b[0m \u001b[0maiohttp\u001b[0m\u001b[0;34m\u001b[0m\u001b[0;34m\u001b[0m\u001b[0m\n\u001b[0;32m----> 3\u001b[0;31m \u001b[0;32mfrom\u001b[0m \u001b[0mflags\u001b[0m \u001b[0;32mimport\u001b[0m \u001b[0mBASE_URL\u001b[0m\u001b[0;34m,\u001b[0m \u001b[0msave_flag\u001b[0m\u001b[0;34m,\u001b[0m \u001b[0mshow\u001b[0m\u001b[0;34m,\u001b[0m \u001b[0mmain\u001b[0m\u001b[0;34m\u001b[0m\u001b[0;34m\u001b[0m\u001b[0m\n\u001b[0m\u001b[1;32m      4\u001b[0m \u001b[0;34m\u001b[0m\u001b[0m\n\u001b[1;32m      5\u001b[0m \u001b[0;34m@\u001b[0m\u001b[0masyncio\u001b[0m\u001b[0;34m.\u001b[0m\u001b[0mcoroutine\u001b[0m\u001b[0;34m\u001b[0m\u001b[0;34m\u001b[0m\u001b[0m\n",
      "\u001b[0;31mModuleNotFoundError\u001b[0m: No module named 'flags'"
     ]
    }
   ],
   "source": [
    "import asyncio\n",
    "import aiohttp\n",
    "from flags import BASE_URL, save_flag, show, main\n",
    "\n",
    "@asyncio.coroutine\n",
    "def get_flag(cc):\n",
    "    url = '{}/{cc}/{cc}.gif'.format(BASE_URL, cc=cc.lower())\n",
    "    # 블로킹 연산은 코루틴됨, yield from 이용해 코루틴에 위임, 코루틴이 비동기 실행\n",
    "    resp = yield from aiohttp.request('GET', url)\n",
    "    # 응답내용을 읽는 것은 비동기 연산에서 구현 \n",
    "    image = yield from resp.read()\n",
    "    return image\n",
    "\n",
    "@asyncio.coroutine\n",
    "def download_one(cc):\n",
    "    image = yield from get_flag(cc)\n",
    "    show(cc)\n",
    "    save_flag(image, cc.lower() + '.gif')\n",
    "    return cc\n",
    "\n",
    "def download_many(cc_list):\n",
    "    loop = asyncio.get_event_loop() \n",
    "    to_do = [download_one(cc) for cc in sorted(cc_list)] # 제너레이터 객채 생성\n",
    "    wait_coro = asyncio.wait(to_do) # 일종의 코루틴 자신에게 전달된 코루틴들이 완료되면 완료 됨\n",
    "    res, _ = loop.run_until_complete(wait_coro) # wait_core 가 완료될때까지 이벤트 루프 실행. 브로킹됨 \n",
    "    loop.close()\n",
    "    return len(res)"
   ]
  },
  {
   "cell_type": "markdown",
   "metadata": {},
   "source": [
    "wait() 가 관리하는 객체는 모두 Future 객체가 된다. 그리고 코루틴 제너레이터객체가 반환된다. \n",
    "\n",
    "loop.run_until_complete() 함수는 Future 객체나 코루틴을 받는다. 코루틴을 task 안에 래핑한다. \n",
    "\n",
    "wait_coro 는 실행이 완료되면 <실행 완료된 Future 들의 집합>, <실행이 완료되지 않은 Future 들의 집합> 튜플 반환 \n",
    "\n",
    "yield from 사용법\n",
    "-  yield from 으로 연결된 전체 코루틴 체인은 궁극적으로 가장 바깥쪽에 있느 ㄴ대표 제너레이터의 next() 나 send() 를 명시적 혹은 암묵적(for) 으로 출하는 호출자에 의해 구동된다. \n",
    "- 제너레이터는 yield 를 사용하는 단순 제너레이터나 반복형 객체 여야한다. \n",
    "\n",
    "asyncio API 특징 \n",
    "- loop.run_until_complete() 와 같은 api 로 제너레터를 전달 해서 구동시킴 (next, send 필요 없음)\n",
    "- 코루틴함수는 asyncio.sleep() 혹은 상위 프로토콜을 구현하는 라이브러리(get_flag() 의 resp = yield from aiohttp.request()) 에 yield from 을 호출하면서 끝나야 한다. 실제로 입출력을 수행하는 라이브러리 함수여야 한다. \n",
    "\n",
    "asyncio 이벤트 루프가 코루틴 체인을 구동하고, 코루틴 체인은 결국 저수준 비동기 입출력을 수행하는 라이브러리 함수에서 끝난다. \n"
   ]
  },
  {
   "cell_type": "markdown",
   "metadata": {},
   "source": [
    "### Running Circling Around Blocking Calls\n",
    "\n",
    "블로킹 함수 : 디스크나 네트워크 입출력 수행\n",
    "\n",
    "블로킹 함수가 전체 어플을 멈추지 않게 하는 방법\n",
    "1. 블로킹을 스레드 별로 처리\n",
    "2. 보든 블로킹 연산을 논블로킹 비동기 연산으로 바꿈\n",
    "\n",
    "전통적으로 메모리 부담을 줄이기 위해 콜백으로 비동기 호출을 구현했다. (인터럽트 처럼) \n",
    "\n",
    "응답을 기다리는 대신, 이벤트가 끝남을 알리는 함수를 등록하여 호출한 것을 논블로킹으로 만들수 있다. \n",
    "\n",
    "이벤트 루프가 응답을 받으면, 우리 코드를 다시 호출한다. "
   ]
  },
  {
   "cell_type": "markdown",
   "metadata": {},
   "source": [
    "### Enhancing the asyncio downloader Script Using asyncio.as_completed\n",
    "\n",
    "loop.run_until.complete() 에 의해 구동되는 await()는 내려 받는 작업들이 모두 완료 된 후 결과를 반환한다. \n",
    "\n",
    "asyncio 프로그램에는 주 스레드가 하나만 있고 주 스레드에서 이벤트 루프를 실행하므로, 주 스레드 안에서 블로킹 함수를 호출하면 안된다.\n",
    "\n",
    "모든 네트워크 접속에서 yield from 을 사용해야 한다. \n",
    "\n",
    "download_one() 을 asyncio.wait() 안에 래핑하고 loop.run_until_comlete() 에 전달함으로써 결국 download_many() 가 download_one() 을 구동했다. download_many() 에서 새로 만든 downloader_core() 코루틴으로 옮기고 download_many() ㄴ느 단지 이벤트 루프를 생성하고 downloader_core() 를 스케쥴링한다. "
   ]
  },
  {
   "cell_type": "code",
   "execution_count": 1,
   "metadata": {},
   "outputs": [
    {
     "ename": "ModuleNotFoundError",
     "evalue": "No module named 'tqdm'",
     "output_type": "error",
     "traceback": [
      "\u001b[0;31m---------------------------------------------------------------------------\u001b[0m",
      "\u001b[0;31mModuleNotFoundError\u001b[0m                       Traceback (most recent call last)",
      "\u001b[0;32m<ipython-input-1-6f1b7f91d539>\u001b[0m in \u001b[0;36m<module>\u001b[0;34m\u001b[0m\n\u001b[1;32m      3\u001b[0m \u001b[0;32mimport\u001b[0m \u001b[0maiohttp\u001b[0m\u001b[0;34m\u001b[0m\u001b[0;34m\u001b[0m\u001b[0m\n\u001b[1;32m      4\u001b[0m \u001b[0;32mfrom\u001b[0m \u001b[0maiohttp\u001b[0m \u001b[0;32mimport\u001b[0m \u001b[0mweb\u001b[0m\u001b[0;34m\u001b[0m\u001b[0;34m\u001b[0m\u001b[0m\n\u001b[0;32m----> 5\u001b[0;31m \u001b[0;32mimport\u001b[0m \u001b[0mtqdm\u001b[0m\u001b[0;34m\u001b[0m\u001b[0;34m\u001b[0m\u001b[0m\n\u001b[0m\u001b[1;32m      6\u001b[0m \u001b[0;32mfrom\u001b[0m \u001b[0mflags2_common\u001b[0m \u001b[0;32mimport\u001b[0m \u001b[0mmain\u001b[0m\u001b[0;34m,\u001b[0m \u001b[0mHTTPStatus\u001b[0m\u001b[0;34m,\u001b[0m \u001b[0mResult\u001b[0m\u001b[0;34m,\u001b[0m \u001b[0msave_flag\u001b[0m\u001b[0;34m\u001b[0m\u001b[0;34m\u001b[0m\u001b[0m\n\u001b[1;32m      7\u001b[0m \u001b[0;31m# default set low to avoid errors from remote site, such as\u001b[0m\u001b[0;34m\u001b[0m\u001b[0;34m\u001b[0m\u001b[0;34m\u001b[0m\u001b[0m\n",
      "\u001b[0;31mModuleNotFoundError\u001b[0m: No module named 'tqdm'"
     ]
    }
   ],
   "source": [
    "import asyncio\n",
    "import collections\n",
    "import aiohttp\n",
    "from aiohttp import web\n",
    "import tqdm\n",
    "from flags2_common import main, HTTPStatus, Result, save_flag\n",
    "# default set low to avoid errors from remote site, such as\n",
    "# 503 - Service Temporarily Unavailable\n",
    "DEFAULT_CONCUR_REQ = 5\n",
    "MAX_CONCUR_REQ = 1000\n",
    "\n",
    "class FetchError(Exception):\n",
    "    def __init__(self, country_code):\n",
    "        self.country_code = country_code\n",
    "\n",
    "@asyncio.coroutine\n",
    "def get_flag(base_url, cc):\n",
    "    url = '{}/{cc}/{cc}.gif'.format(base_url, cc=cc.lower())\n",
    "    resp = yield from aiohttp.request('GET', url)\n",
    "    if resp.status == 200:\n",
    "        image = yield from resp.read()\n",
    "        return image\n",
    "    elif resp.status == 404:\n",
    "        raise web.HTTPNotFound()\n",
    "    else:\n",
    "        raise aiohttp.HttpProcessingError(\n",
    "            code=resp.status, message=resp.reason,\n",
    "            headers=resp.headers)\n",
    "\n",
    "@asyncio.coroutine\n",
    "def download_one(cc, base_url, semaphore, verbose):\n",
    "    # semaphore 인수는 ayncio.Semaphore 객체로, 동시 요청 수를 제한하기 위한 동기화 장치\n",
    "    try:\n",
    "        with (yield from semaphore):\n",
    "            # semaphore 를 yield from 표현식의 콘텍스트 관리자로 사용하므로, 시스템 전체가 블로킹되지 않게 한다. \n",
    "            # 단지 semaphore 카운터가 최대 허용수가 되면 코루틴이 브로킹 된다. \n",
    "            image = yield from get_flag(base_url, cc)\n",
    "            # with 문장을 빠져나올 떄 semaphore 카운터가 감소되고, 세마포어 객체를 기다리고 있던 다른 코루틴 객체가 진행되도록 한다. \n",
    "    except web.HTTPNotFound:\n",
    "        status = HTTPStatus.not_found\n",
    "        msg = 'not found'\n",
    "    except Exception as exc:\n",
    "        raise FetchError(cc) from exc\n",
    "        # 나머지 예외는 PEP3134 예외 체이닝과 내장된 역추적 제안서에 정의된 \n",
    "        # raise X from Y 구문을 이용해서 연결된 원래 예외를 담은 fetcherror 로 만들어 전파\n",
    "    else:\n",
    "        save_flag(image, cc.lower() + '.gif')\n",
    "        status = HTTPStatus.ok\n",
    "        msg = 'OK'\n",
    "        \n",
    "    if verbose and msg:\n",
    "        print(cc, msg)\n",
    "    return Result(status, cc)"
   ]
  },
  {
   "cell_type": "markdown",
   "metadata": {},
   "source": [
    "* 세마포어\n",
    "    - 내부에 카운터를 가지고 있는 객체로서 acquire() 코루틴 메서드를 호출할 때마다 감소\n",
    "    - release() 코루틴 메서드를 호출할떄 마다 증가\n",
    "\n",
    "세마포어 설정 \n",
    "```python\n",
    "semaphore = asyncio.Semaphore(concur_req)\n",
    "```\n",
    "\n",
    "카운터가 0 보다 클때는 acuire() 를 호출해도 클로킹 되지 않지만, 카운터가 0 일떄 acuire() 를 호출하면 다른곳에서 release() 를 호출해서 카운터를 증가시켜줄 때까지 블로킹 된다. \n",
    "\n",
    "acuire, release 를 직접 호출하지 않고 콘텍스트 관리자를 사용\n",
    "```python \n",
    "with (yield from semaphore):\n",
    "    image = yield from get_flag(base_url, cc)\n",
    "```\n",
    "\n",
    "코루틴이 as_completed() 호출해야 하기 때문에 syncio.as_completed()에 의해 생성된 future 객체들의 결과를 yield from 을 이용해서 가져와야한다\n",
    "\n",
    "main() 함수는 단지 일반 함수를 받을 뿐 코루틴을 받지 않기 떄문에 download_many() 를 코루틴으로 바꿀수 없다. \n",
    "\n",
    "downloader_core() 코루틴을 만들어서 as_completed() 루프를 실행했다. \n"
   ]
  },
  {
   "cell_type": "code",
   "execution_count": 3,
   "metadata": {},
   "outputs": [],
   "source": [
    "@asyncio.coroutine\n",
    "def downloader_coro(cc_list, base_url, verbose, concur_req):\n",
    "    counter = collections.Counter()\n",
    "    # 동시에 concur_req 개까지 코루틴 실행하는 세마포어 생성\n",
    "    semaphore = asyncio.Semaphore(concur_req)\n",
    "\n",
    "    to_do = [download_one(cc, base_url, semaphore, verbose)\n",
    "                for cc in sorted(cc_list)]\n",
    "    to_do_iter = asyncio.as_completed(to_do)\n",
    "    # 실행이 완료된 future 객체를 반환하는 반복자를 가져옴\n",
    "    \n",
    "    if not verbose:\n",
    "        to_do_iter = tqdm.tqdm(to_do_iter, total=len(cc_list))\n",
    "        # tqdm 함수를 래핑 진행상황 확인\n",
    "        \n",
    "    for future in to_do_iter: # \n",
    "        # 완료된 future 객체들을 반복, requests와 aiohttp HTTP 차이떄문에 예외처리에 대한 것만 달라짐\n",
    "        try:\n",
    "            res = yield from future\n",
    "            # asyncio.Future 객체의 결과를 가져올 때는 객체의 result(0 메서드를 호출하는 것보다 yield from 을 사용하는 것이 쉬움\n",
    "        except FetchError as exc:\n",
    "            country_code = exc.country_code\n",
    "            try:\n",
    "                error_msg = exc.__cause__.args[0]\n",
    "                # 원래 예외 (__cause__) 에서 오류 메시지 가져옴 \n",
    "            except IndexError:\n",
    "                error_msg = exc.__cause__.__class__.__name__\n",
    "                # 연결된 예외 클래스 명을 에러 메시지로 사용 \n",
    "            if verbose and error_msg:\n",
    "                msg = '*** Error for {}: {}'\n",
    "                print(msg.format(country_code, error_msg))\n",
    "            status = HTTPStatus.error\n",
    "        else:\n",
    "            status = res.status\n",
    "        \n",
    "        counter[status] += 1\n",
    "    return counter\n",
    "\n",
    "def download_many(cc_list, base_url, verbose, concur_req):\n",
    "    loop = asyncio.get_event_loop()\n",
    "    coro = downloader_coro(cc_list, base_url, verbose, concur_req)\n",
    "    counts = loop.run_until_complete(coro)\n",
    "    loop.close()\n",
    "    return counts"
   ]
  },
  {
   "cell_type": "markdown",
   "metadata": {},
   "source": [
    "In Example 18-8, we could not use the mapping of futures to country codes we saw in\n",
    "Example 17-14 because the futures returned by asyncio.as_completed are not necessarily\n",
    "the same futures we pass into the as_completed call. Internally, the asyncio\n",
    "machinery replaces the future objects we provide with others that will, in the end, produce\n",
    "the same results."
   ]
  },
  {
   "cell_type": "markdown",
   "metadata": {},
   "source": [
    "### Using an Executor to Avoid Blocking the Event Loop\n",
    "\n",
    "asyncio 이벤트 루프는 스레드 풀 실행자를 내부에 가지고 잇으며 run_in_executor() 메서드에 실행할 콜러블을 전달 할수 있다. \n"
   ]
  },
  {
   "cell_type": "code",
   "execution_count": 4,
   "metadata": {},
   "outputs": [],
   "source": [
    "@asyncio.coroutine\n",
    "def download_one(cc, base_url, semaphore, verbose):\n",
    "    try:\n",
    "        with (yield from semaphore):\n",
    "            image = yield from get_flag(base_url, cc)\n",
    "    except web.HTTPNotFound:\n",
    "        status = HTTPStatus.not_found\n",
    "        msg = 'not found'\n",
    "    except Exception as exc:\n",
    "        raise FetchError(cc) from exc\n",
    "    else:\n",
    "        loop = asyncio.get_event_loop()\n",
    "        # run_in_executor 첫번쨰 인수는 실행자 객체, 이벤트 루프의 기본 스레드 풀 실행자를 사용할떄는 None \n",
    "        # 나머지 인수는 콜러블 및 콜러블이 받을 위치 인수\n",
    "        loop.run_in_executor(None,save_flag, image, cc.lower() + '.gif')\n",
    "        status = HTTPStatus.ok\n",
    "        msg = 'OK'\n",
    "        \n",
    "    if verbose and msg:\n",
    "        print(cc, msg)\n",
    "    return Result(status, cc)"
   ]
  },
  {
   "cell_type": "markdown",
   "metadata": {},
   "source": [
    "### From Callbacks to Futures and Coroutines\n",
    "\n",
    "코루틴이 어떻게 고전적인 콜백 스타일을 향상시키는지 설명\n",
    "\n",
    "세개의 비동기 작업을 연속적으로 처리(Callback hell) 하기 위해 코루틴 체인에서 yield 를 세번 사용해서 이벤트 루프가 계속 실행할 수 있게 해주면 된다. 겨로가가 나오면 코루틴의 send() 메서드를 호출해서 코루틴을 활성화 하면된다. \n"
   ]
  },
  {
   "cell_type": "markdown",
   "metadata": {},
   "source": [
    "```python\n",
    "# api_call1(request1, function (response1) {\n",
    "#     // stage 1\n",
    "#     var request2 = step1(response1);\n",
    "    \n",
    "#     api_call2(request2, function (response2) {\n",
    "#         // stage 2\n",
    "#         var request3 = step2(response2);\n",
    "        \n",
    "#         api_call3(request3, function (response3) {\n",
    "#             // stage 3\n",
    "#             step3(response3);\n",
    "#         });\n",
    "#     });\n",
    "# });\n",
    "\n",
    "@asyncio.coroutine\n",
    "def three_stages(request1):\n",
    "    response1 = yield from api_call1(request1)\n",
    "    # stage 1\n",
    "    request2 = step1(response1)\n",
    "    response2 = yield from api_call2(request2)\n",
    "    # stage 2\n",
    "    request3 = step2(response2)\n",
    "    response3 = yield from api_call3(request3)\n",
    "    # stage 3\n",
    "    step3(response3)\n",
    "    \n",
    "loop.create_task(three_stages(request1)) # must explicitly schedule execution\n",
    "```"
   ]
  },
  {
   "cell_type": "markdown",
   "metadata": {},
   "source": [
    "3 단계의 연산을 하나의 함수안에서 나란히 비동기식으로 호출하므로, 각각의 yield from 을 각기 별도의 try/exception 블록안에 넣어서 api_call1(), api_call2(), api_call3() 가 발생시키는 예외를 처리할 수 있다. \n"
   ]
  },
  {
   "cell_type": "code",
   "execution_count": null,
   "metadata": {},
   "outputs": [],
   "source": []
  }
 ],
 "metadata": {
  "kernelspec": {
   "display_name": "Python 3",
   "language": "python",
   "name": "python3"
  },
  "language_info": {
   "codemirror_mode": {
    "name": "ipython",
    "version": 3
   },
   "file_extension": ".py",
   "mimetype": "text/x-python",
   "name": "python",
   "nbconvert_exporter": "python",
   "pygments_lexer": "ipython3",
   "version": "3.6.8"
  }
 },
 "nbformat": 4,
 "nbformat_minor": 2
}
